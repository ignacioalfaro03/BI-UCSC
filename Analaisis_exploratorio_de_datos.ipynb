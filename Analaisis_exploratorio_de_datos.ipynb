{
  "nbformat": 4,
  "nbformat_minor": 0,
  "metadata": {
    "colab": {
      "provenance": [],
      "authorship_tag": "ABX9TyORJg9qDBFTTnNBh4i33u+H",
      "include_colab_link": true
    },
    "kernelspec": {
      "name": "ir",
      "display_name": "R"
    },
    "language_info": {
      "name": "R"
    }
  },
  "cells": [
    {
      "cell_type": "markdown",
      "metadata": {
        "id": "view-in-github",
        "colab_type": "text"
      },
      "source": [
        "<a href=\"https://colab.research.google.com/github/ignacioalfaro03/BI-UCSC/blob/main/Analaisis_exploratorio_de_datos.ipynb\" target=\"_parent\"><img src=\"https://colab.research.google.com/assets/colab-badge.svg\" alt=\"Open In Colab\"/></a>"
      ]
    },
    {
      "cell_type": "markdown",
      "source": [
        "#Preparación de datos\n",
        "\n",
        "#Analaisis exploratorio de datos\n",
        "Este es un proceso ciclico que nos sirve para preparar los datos previamente al analisis de datos\n",
        "\n",
        "1. ANALÍSIS DESCRIPTIVO\n",
        "\n",
        "2. AJUSTE O TRANSFORMACIÓN DE VARIABLES\n",
        "\n",
        "3. IDENTIFICACIÓN Y TRATAMIENTO DE DATOS AUSENTES\n",
        "\n",
        "4. IDENTIFICACIÓN Y TRATAMIENTO DE DATOS ÁTIPICOS\n",
        "\n",
        "5. RELACIONES ENTRE VARIABLES"
      ],
      "metadata": {
        "id": "m6mu1Tf3u4yb"
      }
    },
    {
      "cell_type": "code",
      "execution_count": 58,
      "metadata": {
        "id": "D9G-7TkPurh6"
      },
      "outputs": [],
      "source": [
        "library(tidyverse) #Manipulación de datos"
      ]
    },
    {
      "cell_type": "code",
      "source": [
        "#Cargar de datos de manera externa\n",
        "\n",
        "#df1=read.csv(\"/content/creditcard.csv\")"
      ],
      "metadata": {
        "id": "oHuuN41zvBaE"
      },
      "execution_count": 59,
      "outputs": []
    },
    {
      "cell_type": "code",
      "source": [
        "#Cargar datos de manera interna\n",
        "\n",
        "df=mtcars\n",
        "\n",
        "class(df) #Verificar siempre que los datos sean un dataframe"
      ],
      "metadata": {
        "colab": {
          "base_uri": "https://localhost:8080/",
          "height": 34
        },
        "id": "VLhLea1JvFZT",
        "outputId": "25cb262a-6d23-4bce-864d-a187f4b7c43f"
      },
      "execution_count": 60,
      "outputs": [
        {
          "output_type": "display_data",
          "data": {
            "text/html": [
              "'data.frame'"
            ],
            "text/markdown": "'data.frame'",
            "text/latex": "'data.frame'",
            "text/plain": [
              "[1] \"data.frame\""
            ]
          },
          "metadata": {}
        }
      ]
    },
    {
      "cell_type": "code",
      "source": [
        "#1. Realizar analisis descriptivo\n",
        "\n",
        "summary(df)"
      ],
      "metadata": {
        "colab": {
          "base_uri": "https://localhost:8080/",
          "height": 381
        },
        "id": "g7XjZVF1vYIr",
        "outputId": "4506f02c-b81f-4d49-e399-1972d8b3c80a"
      },
      "execution_count": 61,
      "outputs": [
        {
          "output_type": "display_data",
          "data": {
            "text/plain": [
              "      mpg             cyl             disp             hp       \n",
              " Min.   :10.40   Min.   :4.000   Min.   : 71.1   Min.   : 52.0  \n",
              " 1st Qu.:15.43   1st Qu.:4.000   1st Qu.:120.8   1st Qu.: 96.5  \n",
              " Median :19.20   Median :6.000   Median :196.3   Median :123.0  \n",
              " Mean   :20.09   Mean   :6.188   Mean   :230.7   Mean   :146.7  \n",
              " 3rd Qu.:22.80   3rd Qu.:8.000   3rd Qu.:326.0   3rd Qu.:180.0  \n",
              " Max.   :33.90   Max.   :8.000   Max.   :472.0   Max.   :335.0  \n",
              "      drat             wt             qsec             vs        \n",
              " Min.   :2.760   Min.   :1.513   Min.   :14.50   Min.   :0.0000  \n",
              " 1st Qu.:3.080   1st Qu.:2.581   1st Qu.:16.89   1st Qu.:0.0000  \n",
              " Median :3.695   Median :3.325   Median :17.71   Median :0.0000  \n",
              " Mean   :3.597   Mean   :3.217   Mean   :17.85   Mean   :0.4375  \n",
              " 3rd Qu.:3.920   3rd Qu.:3.610   3rd Qu.:18.90   3rd Qu.:1.0000  \n",
              " Max.   :4.930   Max.   :5.424   Max.   :22.90   Max.   :1.0000  \n",
              "       am              gear            carb      \n",
              " Min.   :0.0000   Min.   :3.000   Min.   :1.000  \n",
              " 1st Qu.:0.0000   1st Qu.:3.000   1st Qu.:2.000  \n",
              " Median :0.0000   Median :4.000   Median :2.000  \n",
              " Mean   :0.4062   Mean   :3.688   Mean   :2.812  \n",
              " 3rd Qu.:1.0000   3rd Qu.:4.000   3rd Qu.:4.000  \n",
              " Max.   :1.0000   Max.   :5.000   Max.   :8.000  "
            ]
          },
          "metadata": {}
        }
      ]
    },
    {
      "cell_type": "code",
      "source": [
        "str(df)"
      ],
      "metadata": {
        "colab": {
          "base_uri": "https://localhost:8080/"
        },
        "id": "bbk2L4DbyW3y",
        "outputId": "cc82f52d-692d-42c4-e7d0-d57177ca2860"
      },
      "execution_count": 62,
      "outputs": [
        {
          "output_type": "stream",
          "name": "stdout",
          "text": [
            "'data.frame':\t32 obs. of  11 variables:\n",
            " $ mpg : num  21 21 22.8 21.4 18.7 18.1 14.3 24.4 22.8 19.2 ...\n",
            " $ cyl : num  6 6 4 6 8 6 8 4 4 6 ...\n",
            " $ disp: num  160 160 108 258 360 ...\n",
            " $ hp  : num  110 110 93 110 175 105 245 62 95 123 ...\n",
            " $ drat: num  3.9 3.9 3.85 3.08 3.15 2.76 3.21 3.69 3.92 3.92 ...\n",
            " $ wt  : num  2.62 2.88 2.32 3.21 3.44 ...\n",
            " $ qsec: num  16.5 17 18.6 19.4 17 ...\n",
            " $ vs  : num  0 0 1 1 0 1 0 1 1 1 ...\n",
            " $ am  : num  1 1 1 0 0 0 0 0 0 0 ...\n",
            " $ gear: num  4 4 4 3 3 3 3 4 4 4 ...\n",
            " $ carb: num  4 4 1 1 2 1 4 2 2 4 ...\n"
          ]
        }
      ]
    },
    {
      "cell_type": "code",
      "source": [
        "head(df)"
      ],
      "metadata": {
        "colab": {
          "base_uri": "https://localhost:8080/",
          "height": 286
        },
        "id": "Voemy7fFyiI0",
        "outputId": "b3803911-63ab-47b6-f406-134e94cd50c7"
      },
      "execution_count": 63,
      "outputs": [
        {
          "output_type": "display_data",
          "data": {
            "text/html": [
              "<table class=\"dataframe\">\n",
              "<caption>A data.frame: 6 × 11</caption>\n",
              "<thead>\n",
              "\t<tr><th></th><th scope=col>mpg</th><th scope=col>cyl</th><th scope=col>disp</th><th scope=col>hp</th><th scope=col>drat</th><th scope=col>wt</th><th scope=col>qsec</th><th scope=col>vs</th><th scope=col>am</th><th scope=col>gear</th><th scope=col>carb</th></tr>\n",
              "\t<tr><th></th><th scope=col>&lt;dbl&gt;</th><th scope=col>&lt;dbl&gt;</th><th scope=col>&lt;dbl&gt;</th><th scope=col>&lt;dbl&gt;</th><th scope=col>&lt;dbl&gt;</th><th scope=col>&lt;dbl&gt;</th><th scope=col>&lt;dbl&gt;</th><th scope=col>&lt;dbl&gt;</th><th scope=col>&lt;dbl&gt;</th><th scope=col>&lt;dbl&gt;</th><th scope=col>&lt;dbl&gt;</th></tr>\n",
              "</thead>\n",
              "<tbody>\n",
              "\t<tr><th scope=row>Mazda RX4</th><td>21.0</td><td>6</td><td>160</td><td>110</td><td>3.90</td><td>2.620</td><td>16.46</td><td>0</td><td>1</td><td>4</td><td>4</td></tr>\n",
              "\t<tr><th scope=row>Mazda RX4 Wag</th><td>21.0</td><td>6</td><td>160</td><td>110</td><td>3.90</td><td>2.875</td><td>17.02</td><td>0</td><td>1</td><td>4</td><td>4</td></tr>\n",
              "\t<tr><th scope=row>Datsun 710</th><td>22.8</td><td>4</td><td>108</td><td> 93</td><td>3.85</td><td>2.320</td><td>18.61</td><td>1</td><td>1</td><td>4</td><td>1</td></tr>\n",
              "\t<tr><th scope=row>Hornet 4 Drive</th><td>21.4</td><td>6</td><td>258</td><td>110</td><td>3.08</td><td>3.215</td><td>19.44</td><td>1</td><td>0</td><td>3</td><td>1</td></tr>\n",
              "\t<tr><th scope=row>Hornet Sportabout</th><td>18.7</td><td>8</td><td>360</td><td>175</td><td>3.15</td><td>3.440</td><td>17.02</td><td>0</td><td>0</td><td>3</td><td>2</td></tr>\n",
              "\t<tr><th scope=row>Valiant</th><td>18.1</td><td>6</td><td>225</td><td>105</td><td>2.76</td><td>3.460</td><td>20.22</td><td>1</td><td>0</td><td>3</td><td>1</td></tr>\n",
              "</tbody>\n",
              "</table>\n"
            ],
            "text/markdown": "\nA data.frame: 6 × 11\n\n| <!--/--> | mpg &lt;dbl&gt; | cyl &lt;dbl&gt; | disp &lt;dbl&gt; | hp &lt;dbl&gt; | drat &lt;dbl&gt; | wt &lt;dbl&gt; | qsec &lt;dbl&gt; | vs &lt;dbl&gt; | am &lt;dbl&gt; | gear &lt;dbl&gt; | carb &lt;dbl&gt; |\n|---|---|---|---|---|---|---|---|---|---|---|---|\n| Mazda RX4 | 21.0 | 6 | 160 | 110 | 3.90 | 2.620 | 16.46 | 0 | 1 | 4 | 4 |\n| Mazda RX4 Wag | 21.0 | 6 | 160 | 110 | 3.90 | 2.875 | 17.02 | 0 | 1 | 4 | 4 |\n| Datsun 710 | 22.8 | 4 | 108 |  93 | 3.85 | 2.320 | 18.61 | 1 | 1 | 4 | 1 |\n| Hornet 4 Drive | 21.4 | 6 | 258 | 110 | 3.08 | 3.215 | 19.44 | 1 | 0 | 3 | 1 |\n| Hornet Sportabout | 18.7 | 8 | 360 | 175 | 3.15 | 3.440 | 17.02 | 0 | 0 | 3 | 2 |\n| Valiant | 18.1 | 6 | 225 | 105 | 2.76 | 3.460 | 20.22 | 1 | 0 | 3 | 1 |\n\n",
            "text/latex": "A data.frame: 6 × 11\n\\begin{tabular}{r|lllllllllll}\n  & mpg & cyl & disp & hp & drat & wt & qsec & vs & am & gear & carb\\\\\n  & <dbl> & <dbl> & <dbl> & <dbl> & <dbl> & <dbl> & <dbl> & <dbl> & <dbl> & <dbl> & <dbl>\\\\\n\\hline\n\tMazda RX4 & 21.0 & 6 & 160 & 110 & 3.90 & 2.620 & 16.46 & 0 & 1 & 4 & 4\\\\\n\tMazda RX4 Wag & 21.0 & 6 & 160 & 110 & 3.90 & 2.875 & 17.02 & 0 & 1 & 4 & 4\\\\\n\tDatsun 710 & 22.8 & 4 & 108 &  93 & 3.85 & 2.320 & 18.61 & 1 & 1 & 4 & 1\\\\\n\tHornet 4 Drive & 21.4 & 6 & 258 & 110 & 3.08 & 3.215 & 19.44 & 1 & 0 & 3 & 1\\\\\n\tHornet Sportabout & 18.7 & 8 & 360 & 175 & 3.15 & 3.440 & 17.02 & 0 & 0 & 3 & 2\\\\\n\tValiant & 18.1 & 6 & 225 & 105 & 2.76 & 3.460 & 20.22 & 1 & 0 & 3 & 1\\\\\n\\end{tabular}\n",
            "text/plain": [
              "                  mpg  cyl disp hp  drat wt    qsec  vs am gear carb\n",
              "Mazda RX4         21.0 6   160  110 3.90 2.620 16.46 0  1  4    4   \n",
              "Mazda RX4 Wag     21.0 6   160  110 3.90 2.875 17.02 0  1  4    4   \n",
              "Datsun 710        22.8 4   108   93 3.85 2.320 18.61 1  1  4    1   \n",
              "Hornet 4 Drive    21.4 6   258  110 3.08 3.215 19.44 1  0  3    1   \n",
              "Hornet Sportabout 18.7 8   360  175 3.15 3.440 17.02 0  0  3    2   \n",
              "Valiant           18.1 6   225  105 2.76 3.460 20.22 1  0  3    1   "
            ]
          },
          "metadata": {}
        }
      ]
    },
    {
      "cell_type": "markdown",
      "source": [
        "Descripción de los datos:  A data frame with 32 observations on 11 (numeric) variables.\n",
        "\n",
        "1. mpg:   Miles/(US) gallon                        \n",
        "2. cyl:   Number of cylinders                      \n",
        "3. disp:  Displacement (cu.in.)                    \n",
        "4. hp:    Gross horsepower                         \n",
        "5. drat:  Rear axle ratio                          \n",
        "6. wt:    Weight (1000 lbs)                        \n",
        "7. qsec:  1/4 mile time                            \n",
        "8. vs:    Engine (0 = V-shaped, 1 = straight)      \n",
        "9. am:    Transmission (0 = automatic, 1 = manual)\n",
        "10. gear:  Number of forward gears                  \n",
        "11. carb:  Number of carburetors   "
      ],
      "metadata": {
        "id": "p3dOc9rlxXej"
      }
    },
    {
      "cell_type": "code",
      "source": [
        "#2. Ajuste de variables de transformación\n",
        "\n",
        "df$vs = as.factor(ifelse(df$vs==1, \"MotorV\", \"MotorLinea\"))\n",
        "df$am = as.factor(ifelse(df$am==1, \"MAnual\", \"Autom\"))\n",
        "df$gear = as.integer(df$gear)\n",
        "df$carb = as.integer(df$carb)"
      ],
      "metadata": {
        "id": "sEgV7mfzzWtS"
      },
      "execution_count": 64,
      "outputs": []
    },
    {
      "cell_type": "code",
      "source": [
        "summary(df)"
      ],
      "metadata": {
        "colab": {
          "base_uri": "https://localhost:8080/",
          "height": 381
        },
        "id": "LtbDG06_0kcz",
        "outputId": "7dfc1ee6-692b-482b-a64b-90faaf904c52"
      },
      "execution_count": 65,
      "outputs": [
        {
          "output_type": "display_data",
          "data": {
            "text/plain": [
              "      mpg             cyl             disp             hp       \n",
              " Min.   :10.40   Min.   :4.000   Min.   : 71.1   Min.   : 52.0  \n",
              " 1st Qu.:15.43   1st Qu.:4.000   1st Qu.:120.8   1st Qu.: 96.5  \n",
              " Median :19.20   Median :6.000   Median :196.3   Median :123.0  \n",
              " Mean   :20.09   Mean   :6.188   Mean   :230.7   Mean   :146.7  \n",
              " 3rd Qu.:22.80   3rd Qu.:8.000   3rd Qu.:326.0   3rd Qu.:180.0  \n",
              " Max.   :33.90   Max.   :8.000   Max.   :472.0   Max.   :335.0  \n",
              "      drat             wt             qsec                vs          am    \n",
              " Min.   :2.760   Min.   :1.513   Min.   :14.50   MotorLinea:18   Autom :19  \n",
              " 1st Qu.:3.080   1st Qu.:2.581   1st Qu.:16.89   MotorV    :14   MAnual:13  \n",
              " Median :3.695   Median :3.325   Median :17.71                              \n",
              " Mean   :3.597   Mean   :3.217   Mean   :17.85                              \n",
              " 3rd Qu.:3.920   3rd Qu.:3.610   3rd Qu.:18.90                              \n",
              " Max.   :4.930   Max.   :5.424   Max.   :22.90                              \n",
              "      gear            carb      \n",
              " Min.   :3.000   Min.   :1.000  \n",
              " 1st Qu.:3.000   1st Qu.:2.000  \n",
              " Median :4.000   Median :2.000  \n",
              " Mean   :3.688   Mean   :2.812  \n",
              " 3rd Qu.:4.000   3rd Qu.:4.000  \n",
              " Max.   :5.000   Max.   :8.000  "
            ]
          },
          "metadata": {}
        }
      ]
    },
    {
      "cell_type": "code",
      "source": [
        "str(df)"
      ],
      "metadata": {
        "colab": {
          "base_uri": "https://localhost:8080/"
        },
        "id": "JL0Wyhqx0pq4",
        "outputId": "48dd8dd2-22af-4015-8a0d-c5d3b2abee6a"
      },
      "execution_count": 66,
      "outputs": [
        {
          "output_type": "stream",
          "name": "stdout",
          "text": [
            "'data.frame':\t32 obs. of  11 variables:\n",
            " $ mpg : num  21 21 22.8 21.4 18.7 18.1 14.3 24.4 22.8 19.2 ...\n",
            " $ cyl : num  6 6 4 6 8 6 8 4 4 6 ...\n",
            " $ disp: num  160 160 108 258 360 ...\n",
            " $ hp  : num  110 110 93 110 175 105 245 62 95 123 ...\n",
            " $ drat: num  3.9 3.9 3.85 3.08 3.15 2.76 3.21 3.69 3.92 3.92 ...\n",
            " $ wt  : num  2.62 2.88 2.32 3.21 3.44 ...\n",
            " $ qsec: num  16.5 17 18.6 19.4 17 ...\n",
            " $ vs  : Factor w/ 2 levels \"MotorLinea\",\"MotorV\": 1 1 2 2 1 2 1 2 2 2 ...\n",
            " $ am  : Factor w/ 2 levels \"Autom\",\"MAnual\": 2 2 2 1 1 1 1 1 1 1 ...\n",
            " $ gear: int  4 4 4 3 3 3 3 4 4 4 ...\n",
            " $ carb: int  4 4 1 1 2 1 4 2 2 4 ...\n"
          ]
        }
      ]
    },
    {
      "cell_type": "code",
      "source": [
        "#3. Identificar y tratamiento de datos NA\n",
        "\n",
        "#Ejemplo\n",
        "df[3,4] = NA\n",
        "df[5,8] = NA\n",
        "\n",
        "#Detección de los datos ausentes\n",
        "\n",
        "any(is.na(df))\n",
        "sum(is.na(df))\n",
        "mean(is.na(df))\n",
        "\n",
        "#Detección de los valores ausentes por columnas\n",
        "\n",
        "colSums(is.na(df))\n",
        "\n",
        "colMeans(is.na(df), round(2))"
      ],
      "metadata": {
        "colab": {
          "base_uri": "https://localhost:8080/",
          "height": 104
        },
        "id": "n2ury6l30z5x",
        "outputId": "3c47a814-4a81-48fe-951c-c1a122769d8e"
      },
      "execution_count": 67,
      "outputs": [
        {
          "output_type": "display_data",
          "data": {
            "text/html": [
              "TRUE"
            ],
            "text/markdown": "TRUE",
            "text/latex": "TRUE",
            "text/plain": [
              "[1] TRUE"
            ]
          },
          "metadata": {}
        },
        {
          "output_type": "display_data",
          "data": {
            "text/html": [
              "2"
            ],
            "text/markdown": "2",
            "text/latex": "2",
            "text/plain": [
              "[1] 2"
            ]
          },
          "metadata": {}
        },
        {
          "output_type": "display_data",
          "data": {
            "text/html": [
              "0.00568181818181818"
            ],
            "text/markdown": "0.00568181818181818",
            "text/latex": "0.00568181818181818",
            "text/plain": [
              "[1] 0.005681818"
            ]
          },
          "metadata": {}
        },
        {
          "output_type": "display_data",
          "data": {
            "text/html": [
              "<style>\n",
              ".dl-inline {width: auto; margin:0; padding: 0}\n",
              ".dl-inline>dt, .dl-inline>dd {float: none; width: auto; display: inline-block}\n",
              ".dl-inline>dt::after {content: \":\\0020\"; padding-right: .5ex}\n",
              ".dl-inline>dt:not(:first-of-type) {padding-left: .5ex}\n",
              "</style><dl class=dl-inline><dt>mpg</dt><dd>0</dd><dt>cyl</dt><dd>0</dd><dt>disp</dt><dd>0</dd><dt>hp</dt><dd>1</dd><dt>drat</dt><dd>0</dd><dt>wt</dt><dd>0</dd><dt>qsec</dt><dd>0</dd><dt>vs</dt><dd>1</dd><dt>am</dt><dd>0</dd><dt>gear</dt><dd>0</dd><dt>carb</dt><dd>0</dd></dl>\n"
            ],
            "text/markdown": "mpg\n:   0cyl\n:   0disp\n:   0hp\n:   1drat\n:   0wt\n:   0qsec\n:   0vs\n:   1am\n:   0gear\n:   0carb\n:   0\n\n",
            "text/latex": "\\begin{description*}\n\\item[mpg] 0\n\\item[cyl] 0\n\\item[disp] 0\n\\item[hp] 1\n\\item[drat] 0\n\\item[wt] 0\n\\item[qsec] 0\n\\item[vs] 1\n\\item[am] 0\n\\item[gear] 0\n\\item[carb] 0\n\\end{description*}\n",
            "text/plain": [
              " mpg  cyl disp   hp drat   wt qsec   vs   am gear carb \n",
              "   0    0    0    1    0    0    0    1    0    0    0 "
            ]
          },
          "metadata": {}
        },
        {
          "output_type": "display_data",
          "data": {
            "text/html": [
              "<style>\n",
              ".dl-inline {width: auto; margin:0; padding: 0}\n",
              ".dl-inline>dt, .dl-inline>dd {float: none; width: auto; display: inline-block}\n",
              ".dl-inline>dt::after {content: \":\\0020\"; padding-right: .5ex}\n",
              ".dl-inline>dt:not(:first-of-type) {padding-left: .5ex}\n",
              "</style><dl class=dl-inline><dt>mpg</dt><dd>0</dd><dt>cyl</dt><dd>0</dd><dt>disp</dt><dd>0</dd><dt>hp</dt><dd>0.03125</dd><dt>drat</dt><dd>0</dd><dt>wt</dt><dd>0</dd><dt>qsec</dt><dd>0</dd><dt>vs</dt><dd>0.03125</dd><dt>am</dt><dd>0</dd><dt>gear</dt><dd>0</dd><dt>carb</dt><dd>0</dd></dl>\n"
            ],
            "text/markdown": "mpg\n:   0cyl\n:   0disp\n:   0hp\n:   0.03125drat\n:   0wt\n:   0qsec\n:   0vs\n:   0.03125am\n:   0gear\n:   0carb\n:   0\n\n",
            "text/latex": "\\begin{description*}\n\\item[mpg] 0\n\\item[cyl] 0\n\\item[disp] 0\n\\item[hp] 0.03125\n\\item[drat] 0\n\\item[wt] 0\n\\item[qsec] 0\n\\item[vs] 0.03125\n\\item[am] 0\n\\item[gear] 0\n\\item[carb] 0\n\\end{description*}\n",
            "text/plain": [
              "    mpg     cyl    disp      hp    drat      wt    qsec      vs      am    gear \n",
              "0.00000 0.00000 0.00000 0.03125 0.00000 0.00000 0.00000 0.03125 0.00000 0.00000 \n",
              "   carb \n",
              "0.00000 "
            ]
          },
          "metadata": {}
        }
      ]
    },
    {
      "cell_type": "code",
      "source": [
        "#Para identificar los NA procederemos\n",
        "\n",
        "for (i in 1:nrow(df)){\n",
        "  for (j in 1:ncol(df)){\n",
        "    if(is.na(df[i,j])){\n",
        "      cat(\"El NA está en la fila\", i, \"y en la columna\", j, \"\\n\")\n",
        "    }\n",
        "  }\n",
        "}"
      ],
      "metadata": {
        "colab": {
          "base_uri": "https://localhost:8080/"
        },
        "id": "gtxVDp_u1pJh",
        "outputId": "b5bcaa57-a890-464d-acb7-7ec096e28381"
      },
      "execution_count": 68,
      "outputs": [
        {
          "output_type": "stream",
          "name": "stdout",
          "text": [
            "El NA está en la fila 3 y en la columna 4 \n",
            "El NA está en la fila 5 y en la columna 8 \n"
          ]
        }
      ]
    },
    {
      "cell_type": "code",
      "source": [
        "#Visualizar NA en grafica\n",
        "\n",
        "install.packages(\"visdat\")\n",
        "library(visdat) #Visualizar datos\n",
        "\n",
        "vis_dat(df)"
      ],
      "metadata": {
        "colab": {
          "base_uri": "https://localhost:8080/",
          "height": 489
        },
        "id": "iQ0vYa061tlA",
        "outputId": "9f22cbea-678e-42c6-8e41-5e8b4144e25f"
      },
      "execution_count": 69,
      "outputs": [
        {
          "output_type": "stream",
          "name": "stderr",
          "text": [
            "Installing package into ‘/usr/local/lib/R/site-library’\n",
            "(as ‘lib’ is unspecified)\n",
            "\n"
          ]
        },
        {
          "output_type": "display_data",
          "data": {
            "text/plain": [
              "plot without title"
            ],
            "image/png": "[encoded data removed]"
          },
          "metadata": {
            "image/png": {
              "width": 420,
              "height": 420
            }
          }
        }
      ]
    },
    {
      "cell_type": "code",
      "source": [
        "#Tratamiento de NA\n",
        "\n",
        "#Metodo del vecino más cercano\n",
        "\n",
        "install.packages(\"DMwR2\") #Me permite usar el algoritmo de los K Vecinos más cercanos\n",
        "library(DMwR2)\n",
        "\n",
        "dfi=DMwR2::knnImputation(df) #Imputación con método del vecino más cercano\n",
        "dfx=DMwR2::knnImputation(df) #Para ejemplos\n",
        "\n",
        "#El método no funciona si en todas las columnas hay un NA"
      ],
      "metadata": {
        "colab": {
          "base_uri": "https://localhost:8080/"
        },
        "id": "K-LMMgHJ18UX",
        "outputId": "fcc645df-e581-4ace-8409-b167b60f1a63"
      },
      "execution_count": 70,
      "outputs": [
        {
          "output_type": "stream",
          "name": "stderr",
          "text": [
            "Installing package into ‘/usr/local/lib/R/site-library’\n",
            "(as ‘lib’ is unspecified)\n",
            "\n"
          ]
        }
      ]
    },
    {
      "cell_type": "code",
      "source": [
        "#se comprueba el tratamiento exitoso de los NA\n",
        "\n",
        "vis_dat(dfi)"
      ],
      "metadata": {
        "colab": {
          "base_uri": "https://localhost:8080/",
          "height": 437
        },
        "id": "MHsJ5DnI2M8H",
        "outputId": "9a95c87a-67ed-44a1-e71d-6100e550880f"
      },
      "execution_count": 71,
      "outputs": [
        {
          "output_type": "display_data",
          "data": {
            "text/plain": [
              "plot without title"
            ],
            "image/png": "[encoded data removed]"
          },
          "metadata": {
            "image/png": {
              "width": 420,
              "height": 420
            }
          }
        }
      ]
    },
    {
      "cell_type": "code",
      "source": [
        "#4 Identificación de valores atipicos para variables númericas\n",
        "\n",
        "#Construcción del gráfico de cajas y bigotes\n",
        "#se utilizó dfx (dfx=dfi) para observar los diagramas después de hacer el reemplazo y estos se sigan viendo con los outliers\n",
        "\n",
        "estandarizado=scale(dfx[,-c(8,9)])\n",
        "boxplot(estandarizado, col=\"cyan\")"
      ],
      "metadata": {
        "colab": {
          "base_uri": "https://localhost:8080/",
          "height": 437
        },
        "id": "n2X2Q5V13e3w",
        "outputId": "e779c012-9f6c-4496-82d5-8124897507bf"
      },
      "execution_count": 72,
      "outputs": [
        {
          "output_type": "display_data",
          "data": {
            "text/plain": [
              "plot without title"
            ],
            "image/png": "[encoded data removed]"
          },
          "metadata": {
            "image/png": {
              "width": 420,
              "height": 420
            }
          }
        }
      ]
    },
    {
      "cell_type": "code",
      "source": [
        "#Estadísticas necesarias\n",
        "\n",
        "cat(\"---VARIABLE hp-----------------------------\")\n",
        "boxplot.stats(dfi$hp)\n",
        "\n",
        "cat(\"---VARIABLE wt-----------------------------\")\n",
        "boxplot.stats(dfi$wt)\n",
        "\n",
        "cat(\"---VARIABLE qsec---------------------------\")\n",
        "boxplot.stats(dfi$qsec)\n",
        "\n",
        "cat(\"---VARIABLE carb---------------------------\")\n",
        "boxplot.stats(dfi$carb)"
      ],
      "metadata": {
        "colab": {
          "base_uri": "https://localhost:8080/",
          "height": 754
        },
        "id": "se8r8vp930JP",
        "outputId": "215f9367-ecc0-40cd-d42f-77c1c8b07dca"
      },
      "execution_count": 73,
      "outputs": [
        {
          "output_type": "stream",
          "name": "stdout",
          "text": [
            "---VARIABLE hp-----------------------------"
          ]
        },
        {
          "output_type": "display_data",
          "data": {
            "text/html": [
              "<dl>\n",
              "\t<dt>$stats</dt>\n",
              "\t\t<dd><style>\n",
              ".list-inline {list-style: none; margin:0; padding: 0}\n",
              ".list-inline>li {display: inline-block}\n",
              ".list-inline>li:not(:last-child)::after {content: \"\\00b7\"; padding: 0 .5ex}\n",
              "</style>\n",
              "<ol class=list-inline><li>52</li><li>96</li><li>123</li><li>180</li><li>264</li></ol>\n",
              "</dd>\n",
              "\t<dt>$n</dt>\n",
              "\t\t<dd>32</dd>\n",
              "\t<dt>$conf</dt>\n",
              "\t\t<dd><style>\n",
              ".list-inline {list-style: none; margin:0; padding: 0}\n",
              ".list-inline>li {display: inline-block}\n",
              ".list-inline>li:not(:last-child)::after {content: \"\\00b7\"; padding: 0 .5ex}\n",
              "</style>\n",
              "<ol class=list-inline><li>99.5381970002304</li><li>146.46180299977</li></ol>\n",
              "</dd>\n",
              "\t<dt>$out</dt>\n",
              "\t\t<dd>335</dd>\n",
              "</dl>\n"
            ],
            "text/markdown": "$stats\n:   1. 52\n2. 96\n3. 123\n4. 180\n5. 264\n\n\n\n$n\n:   32\n$conf\n:   1. 99.5381970002304\n2. 146.46180299977\n\n\n\n$out\n:   335\n\n\n",
            "text/latex": "\\begin{description}\n\\item[\\$stats] \\begin{enumerate*}\n\\item 52\n\\item 96\n\\item 123\n\\item 180\n\\item 264\n\\end{enumerate*}\n\n\\item[\\$n] 32\n\\item[\\$conf] \\begin{enumerate*}\n\\item 99.5381970002304\n\\item 146.46180299977\n\\end{enumerate*}\n\n\\item[\\$out] 335\n\\end{description}\n",
            "text/plain": [
              "$stats\n",
              "[1]  52  96 123 180 264\n",
              "\n",
              "$n\n",
              "[1] 32\n",
              "\n",
              "$conf\n",
              "[1]  99.5382 146.4618\n",
              "\n",
              "$out\n",
              "[1] 335\n"
            ]
          },
          "metadata": {}
        },
        {
          "output_type": "stream",
          "name": "stdout",
          "text": [
            "---VARIABLE wt-----------------------------"
          ]
        },
        {
          "output_type": "display_data",
          "data": {
            "text/html": [
              "<dl>\n",
              "\t<dt>$stats</dt>\n",
              "\t\t<dd><style>\n",
              ".list-inline {list-style: none; margin:0; padding: 0}\n",
              ".list-inline>li {display: inline-block}\n",
              ".list-inline>li:not(:last-child)::after {content: \"\\00b7\"; padding: 0 .5ex}\n",
              "</style>\n",
              "<ol class=list-inline><li>1.513</li><li>2.5425</li><li>3.325</li><li>3.65</li><li>5.25</li></ol>\n",
              "</dd>\n",
              "\t<dt>$n</dt>\n",
              "\t\t<dd>32</dd>\n",
              "\t<dt>$conf</dt>\n",
              "\t\t<dd><style>\n",
              ".list-inline {list-style: none; margin:0; padding: 0}\n",
              ".list-inline>li {display: inline-block}\n",
              ".list-inline>li:not(:last-child)::after {content: \"\\00b7\"; padding: 0 .5ex}\n",
              "</style>\n",
              "<ol class=list-inline><li>3.01566729973518</li><li>3.63433270026482</li></ol>\n",
              "</dd>\n",
              "\t<dt>$out</dt>\n",
              "\t\t<dd><style>\n",
              ".list-inline {list-style: none; margin:0; padding: 0}\n",
              ".list-inline>li {display: inline-block}\n",
              ".list-inline>li:not(:last-child)::after {content: \"\\00b7\"; padding: 0 .5ex}\n",
              "</style>\n",
              "<ol class=list-inline><li>5.424</li><li>5.345</li></ol>\n",
              "</dd>\n",
              "</dl>\n"
            ],
            "text/markdown": "$stats\n:   1. 1.513\n2. 2.5425\n3. 3.325\n4. 3.65\n5. 5.25\n\n\n\n$n\n:   32\n$conf\n:   1. 3.01566729973518\n2. 3.63433270026482\n\n\n\n$out\n:   1. 5.424\n2. 5.345\n\n\n\n\n\n",
            "text/latex": "\\begin{description}\n\\item[\\$stats] \\begin{enumerate*}\n\\item 1.513\n\\item 2.5425\n\\item 3.325\n\\item 3.65\n\\item 5.25\n\\end{enumerate*}\n\n\\item[\\$n] 32\n\\item[\\$conf] \\begin{enumerate*}\n\\item 3.01566729973518\n\\item 3.63433270026482\n\\end{enumerate*}\n\n\\item[\\$out] \\begin{enumerate*}\n\\item 5.424\n\\item 5.345\n\\end{enumerate*}\n\n\\end{description}\n",
            "text/plain": [
              "$stats\n",
              "[1] 1.5130 2.5425 3.3250 3.6500 5.2500\n",
              "\n",
              "$n\n",
              "[1] 32\n",
              "\n",
              "$conf\n",
              "[1] 3.015667 3.634333\n",
              "\n",
              "$out\n",
              "[1] 5.424 5.345\n"
            ]
          },
          "metadata": {}
        },
        {
          "output_type": "stream",
          "name": "stdout",
          "text": [
            "---VARIABLE qsec---------------------------"
          ]
        },
        {
          "output_type": "display_data",
          "data": {
            "text/html": [
              "<dl>\n",
              "\t<dt>$stats</dt>\n",
              "\t\t<dd><style>\n",
              ".list-inline {list-style: none; margin:0; padding: 0}\n",
              ".list-inline>li {display: inline-block}\n",
              ".list-inline>li:not(:last-child)::after {content: \"\\00b7\"; padding: 0 .5ex}\n",
              "</style>\n",
              "<ol class=list-inline><li>14.5</li><li>16.885</li><li>17.71</li><li>18.9</li><li>20.22</li></ol>\n",
              "</dd>\n",
              "\t<dt>$n</dt>\n",
              "\t\t<dd>32</dd>\n",
              "\t<dt>$conf</dt>\n",
              "\t\t<dd><style>\n",
              ".list-inline {list-style: none; margin:0; padding: 0}\n",
              ".list-inline>li {display: inline-block}\n",
              ".list-inline>li:not(:last-child)::after {content: \"\\00b7\"; padding: 0 .5ex}\n",
              "</style>\n",
              "<ol class=list-inline><li>17.1471960351841</li><li>18.2728039648159</li></ol>\n",
              "</dd>\n",
              "\t<dt>$out</dt>\n",
              "\t\t<dd>22.9</dd>\n",
              "</dl>\n"
            ],
            "text/markdown": "$stats\n:   1. 14.5\n2. 16.885\n3. 17.71\n4. 18.9\n5. 20.22\n\n\n\n$n\n:   32\n$conf\n:   1. 17.1471960351841\n2. 18.2728039648159\n\n\n\n$out\n:   22.9\n\n\n",
            "text/latex": "\\begin{description}\n\\item[\\$stats] \\begin{enumerate*}\n\\item 14.5\n\\item 16.885\n\\item 17.71\n\\item 18.9\n\\item 20.22\n\\end{enumerate*}\n\n\\item[\\$n] 32\n\\item[\\$conf] \\begin{enumerate*}\n\\item 17.1471960351841\n\\item 18.2728039648159\n\\end{enumerate*}\n\n\\item[\\$out] 22.9\n\\end{description}\n",
            "text/plain": [
              "$stats\n",
              "[1] 14.500 16.885 17.710 18.900 20.220\n",
              "\n",
              "$n\n",
              "[1] 32\n",
              "\n",
              "$conf\n",
              "[1] 17.1472 18.2728\n",
              "\n",
              "$out\n",
              "[1] 22.9\n"
            ]
          },
          "metadata": {}
        },
        {
          "output_type": "stream",
          "name": "stdout",
          "text": [
            "---VARIABLE carb---------------------------"
          ]
        },
        {
          "output_type": "display_data",
          "data": {
            "text/html": [
              "<dl>\n",
              "\t<dt>$stats</dt>\n",
              "\t\t<dd><style>\n",
              ".list-inline {list-style: none; margin:0; padding: 0}\n",
              ".list-inline>li {display: inline-block}\n",
              ".list-inline>li:not(:last-child)::after {content: \"\\00b7\"; padding: 0 .5ex}\n",
              "</style>\n",
              "<ol class=list-inline><li>1</li><li>2</li><li>2</li><li>4</li><li>6</li></ol>\n",
              "</dd>\n",
              "\t<dt>$n</dt>\n",
              "\t\t<dd>32</dd>\n",
              "\t<dt>$conf</dt>\n",
              "\t\t<dd><style>\n",
              ".list-inline {list-style: none; margin:0; padding: 0}\n",
              ".list-inline>li {display: inline-block}\n",
              ".list-inline>li:not(:last-child)::after {content: \"\\00b7\"; padding: 0 .5ex}\n",
              "</style>\n",
              "<ol class=list-inline><li>1.44138564286263</li><li>2.55861435713737</li></ol>\n",
              "</dd>\n",
              "\t<dt>$out</dt>\n",
              "\t\t<dd>8</dd>\n",
              "</dl>\n"
            ],
            "text/markdown": "$stats\n:   1. 1\n2. 2\n3. 2\n4. 4\n5. 6\n\n\n\n$n\n:   32\n$conf\n:   1. 1.44138564286263\n2. 2.55861435713737\n\n\n\n$out\n:   8\n\n\n",
            "text/latex": "\\begin{description}\n\\item[\\$stats] \\begin{enumerate*}\n\\item 1\n\\item 2\n\\item 2\n\\item 4\n\\item 6\n\\end{enumerate*}\n\n\\item[\\$n] 32\n\\item[\\$conf] \\begin{enumerate*}\n\\item 1.44138564286263\n\\item 2.55861435713737\n\\end{enumerate*}\n\n\\item[\\$out] 8\n\\end{description}\n",
            "text/plain": [
              "$stats\n",
              "[1] 1 2 2 4 6\n",
              "\n",
              "$n\n",
              "[1] 32\n",
              "\n",
              "$conf\n",
              "[1] 1.441386 2.558614\n",
              "\n",
              "$out\n",
              "[1] 8\n"
            ]
          },
          "metadata": {}
        }
      ]
    },
    {
      "cell_type": "code",
      "source": [
        "#Fila de los outliers\n",
        "\n",
        "cat(\"variable hp------------------------------------------------------------------------------------\")\n",
        "filter(dfi, hp==335)\n",
        "\n",
        "cat(\"variable wt------------------------------------------------------------------------------------\")\n",
        "filter(dfi, wt==5.424 | wt==5.345)\n",
        "\n",
        "cat(\"variable qsec----------------------------------------------------------------------------------\")\n",
        "filter(dfi, qsec==22.9)\n",
        "\n",
        "cat(\"variable carb----------------------------------------------------------------------------------\")\n",
        "filter(dfi, carb==8)"
      ],
      "metadata": {
        "colab": {
          "base_uri": "https://localhost:8080/",
          "height": 567
        },
        "id": "_bcw5oDu32hu",
        "outputId": "a331f39a-b7a1-47df-b8f8-2dba7004361d"
      },
      "execution_count": 74,
      "outputs": [
        {
          "output_type": "stream",
          "name": "stdout",
          "text": [
            "variable hp------------------------------------------------------------------------------------"
          ]
        },
        {
          "output_type": "display_data",
          "data": {
            "text/html": [
              "<table class=\"dataframe\">\n",
              "<caption>A data.frame: 1 × 11</caption>\n",
              "<thead>\n",
              "\t<tr><th></th><th scope=col>mpg</th><th scope=col>cyl</th><th scope=col>disp</th><th scope=col>hp</th><th scope=col>drat</th><th scope=col>wt</th><th scope=col>qsec</th><th scope=col>vs</th><th scope=col>am</th><th scope=col>gear</th><th scope=col>carb</th></tr>\n",
              "\t<tr><th></th><th scope=col>&lt;dbl&gt;</th><th scope=col>&lt;dbl&gt;</th><th scope=col>&lt;dbl&gt;</th><th scope=col>&lt;dbl&gt;</th><th scope=col>&lt;dbl&gt;</th><th scope=col>&lt;dbl&gt;</th><th scope=col>&lt;dbl&gt;</th><th scope=col>&lt;fct&gt;</th><th scope=col>&lt;fct&gt;</th><th scope=col>&lt;int&gt;</th><th scope=col>&lt;int&gt;</th></tr>\n",
              "</thead>\n",
              "<tbody>\n",
              "\t<tr><th scope=row>Maserati Bora</th><td>15</td><td>8</td><td>301</td><td>335</td><td>3.54</td><td>3.57</td><td>14.6</td><td>MotorLinea</td><td>MAnual</td><td>5</td><td>8</td></tr>\n",
              "</tbody>\n",
              "</table>\n"
            ],
            "text/markdown": "\nA data.frame: 1 × 11\n\n| <!--/--> | mpg &lt;dbl&gt; | cyl &lt;dbl&gt; | disp &lt;dbl&gt; | hp &lt;dbl&gt; | drat &lt;dbl&gt; | wt &lt;dbl&gt; | qsec &lt;dbl&gt; | vs &lt;fct&gt; | am &lt;fct&gt; | gear &lt;int&gt; | carb &lt;int&gt; |\n|---|---|---|---|---|---|---|---|---|---|---|---|\n| Maserati Bora | 15 | 8 | 301 | 335 | 3.54 | 3.57 | 14.6 | MotorLinea | MAnual | 5 | 8 |\n\n",
            "text/latex": "A data.frame: 1 × 11\n\\begin{tabular}{r|lllllllllll}\n  & mpg & cyl & disp & hp & drat & wt & qsec & vs & am & gear & carb\\\\\n  & <dbl> & <dbl> & <dbl> & <dbl> & <dbl> & <dbl> & <dbl> & <fct> & <fct> & <int> & <int>\\\\\n\\hline\n\tMaserati Bora & 15 & 8 & 301 & 335 & 3.54 & 3.57 & 14.6 & MotorLinea & MAnual & 5 & 8\\\\\n\\end{tabular}\n",
            "text/plain": [
              "              mpg cyl disp hp  drat wt   qsec vs         am     gear carb\n",
              "Maserati Bora 15  8   301  335 3.54 3.57 14.6 MotorLinea MAnual 5    8   "
            ]
          },
          "metadata": {}
        },
        {
          "output_type": "stream",
          "name": "stdout",
          "text": [
            "variable wt------------------------------------------------------------------------------------"
          ]
        },
        {
          "output_type": "display_data",
          "data": {
            "text/html": [
              "<table class=\"dataframe\">\n",
              "<caption>A data.frame: 2 × 11</caption>\n",
              "<thead>\n",
              "\t<tr><th></th><th scope=col>mpg</th><th scope=col>cyl</th><th scope=col>disp</th><th scope=col>hp</th><th scope=col>drat</th><th scope=col>wt</th><th scope=col>qsec</th><th scope=col>vs</th><th scope=col>am</th><th scope=col>gear</th><th scope=col>carb</th></tr>\n",
              "\t<tr><th></th><th scope=col>&lt;dbl&gt;</th><th scope=col>&lt;dbl&gt;</th><th scope=col>&lt;dbl&gt;</th><th scope=col>&lt;dbl&gt;</th><th scope=col>&lt;dbl&gt;</th><th scope=col>&lt;dbl&gt;</th><th scope=col>&lt;dbl&gt;</th><th scope=col>&lt;fct&gt;</th><th scope=col>&lt;fct&gt;</th><th scope=col>&lt;int&gt;</th><th scope=col>&lt;int&gt;</th></tr>\n",
              "</thead>\n",
              "<tbody>\n",
              "\t<tr><th scope=row>Lincoln Continental</th><td>10.4</td><td>8</td><td>460</td><td>215</td><td>3.00</td><td>5.424</td><td>17.82</td><td>MotorLinea</td><td>Autom</td><td>3</td><td>4</td></tr>\n",
              "\t<tr><th scope=row>Chrysler Imperial</th><td>14.7</td><td>8</td><td>440</td><td>230</td><td>3.23</td><td>5.345</td><td>17.42</td><td>MotorLinea</td><td>Autom</td><td>3</td><td>4</td></tr>\n",
              "</tbody>\n",
              "</table>\n"
            ],
            "text/markdown": "\nA data.frame: 2 × 11\n\n| <!--/--> | mpg &lt;dbl&gt; | cyl &lt;dbl&gt; | disp &lt;dbl&gt; | hp &lt;dbl&gt; | drat &lt;dbl&gt; | wt &lt;dbl&gt; | qsec &lt;dbl&gt; | vs &lt;fct&gt; | am &lt;fct&gt; | gear &lt;int&gt; | carb &lt;int&gt; |\n|---|---|---|---|---|---|---|---|---|---|---|---|\n| Lincoln Continental | 10.4 | 8 | 460 | 215 | 3.00 | 5.424 | 17.82 | MotorLinea | Autom | 3 | 4 |\n| Chrysler Imperial | 14.7 | 8 | 440 | 230 | 3.23 | 5.345 | 17.42 | MotorLinea | Autom | 3 | 4 |\n\n",
            "text/latex": "A data.frame: 2 × 11\n\\begin{tabular}{r|lllllllllll}\n  & mpg & cyl & disp & hp & drat & wt & qsec & vs & am & gear & carb\\\\\n  & <dbl> & <dbl> & <dbl> & <dbl> & <dbl> & <dbl> & <dbl> & <fct> & <fct> & <int> & <int>\\\\\n\\hline\n\tLincoln Continental & 10.4 & 8 & 460 & 215 & 3.00 & 5.424 & 17.82 & MotorLinea & Autom & 3 & 4\\\\\n\tChrysler Imperial & 14.7 & 8 & 440 & 230 & 3.23 & 5.345 & 17.42 & MotorLinea & Autom & 3 & 4\\\\\n\\end{tabular}\n",
            "text/plain": [
              "                    mpg  cyl disp hp  drat wt    qsec  vs         am    gear\n",
              "Lincoln Continental 10.4 8   460  215 3.00 5.424 17.82 MotorLinea Autom 3   \n",
              "Chrysler Imperial   14.7 8   440  230 3.23 5.345 17.42 MotorLinea Autom 3   \n",
              "                    carb\n",
              "Lincoln Continental 4   \n",
              "Chrysler Imperial   4   "
            ]
          },
          "metadata": {}
        },
        {
          "output_type": "stream",
          "name": "stdout",
          "text": [
            "variable qsec----------------------------------------------------------------------------------"
          ]
        },
        {
          "output_type": "display_data",
          "data": {
            "text/html": [
              "<table class=\"dataframe\">\n",
              "<caption>A data.frame: 1 × 11</caption>\n",
              "<thead>\n",
              "\t<tr><th></th><th scope=col>mpg</th><th scope=col>cyl</th><th scope=col>disp</th><th scope=col>hp</th><th scope=col>drat</th><th scope=col>wt</th><th scope=col>qsec</th><th scope=col>vs</th><th scope=col>am</th><th scope=col>gear</th><th scope=col>carb</th></tr>\n",
              "\t<tr><th></th><th scope=col>&lt;dbl&gt;</th><th scope=col>&lt;dbl&gt;</th><th scope=col>&lt;dbl&gt;</th><th scope=col>&lt;dbl&gt;</th><th scope=col>&lt;dbl&gt;</th><th scope=col>&lt;dbl&gt;</th><th scope=col>&lt;dbl&gt;</th><th scope=col>&lt;fct&gt;</th><th scope=col>&lt;fct&gt;</th><th scope=col>&lt;int&gt;</th><th scope=col>&lt;int&gt;</th></tr>\n",
              "</thead>\n",
              "<tbody>\n",
              "\t<tr><th scope=row>Merc 230</th><td>22.8</td><td>4</td><td>140.8</td><td>95</td><td>3.92</td><td>3.15</td><td>22.9</td><td>MotorV</td><td>Autom</td><td>4</td><td>2</td></tr>\n",
              "</tbody>\n",
              "</table>\n"
            ],
            "text/markdown": "\nA data.frame: 1 × 11\n\n| <!--/--> | mpg &lt;dbl&gt; | cyl &lt;dbl&gt; | disp &lt;dbl&gt; | hp &lt;dbl&gt; | drat &lt;dbl&gt; | wt &lt;dbl&gt; | qsec &lt;dbl&gt; | vs &lt;fct&gt; | am &lt;fct&gt; | gear &lt;int&gt; | carb &lt;int&gt; |\n|---|---|---|---|---|---|---|---|---|---|---|---|\n| Merc 230 | 22.8 | 4 | 140.8 | 95 | 3.92 | 3.15 | 22.9 | MotorV | Autom | 4 | 2 |\n\n",
            "text/latex": "A data.frame: 1 × 11\n\\begin{tabular}{r|lllllllllll}\n  & mpg & cyl & disp & hp & drat & wt & qsec & vs & am & gear & carb\\\\\n  & <dbl> & <dbl> & <dbl> & <dbl> & <dbl> & <dbl> & <dbl> & <fct> & <fct> & <int> & <int>\\\\\n\\hline\n\tMerc 230 & 22.8 & 4 & 140.8 & 95 & 3.92 & 3.15 & 22.9 & MotorV & Autom & 4 & 2\\\\\n\\end{tabular}\n",
            "text/plain": [
              "         mpg  cyl disp  hp drat wt   qsec vs     am    gear carb\n",
              "Merc 230 22.8 4   140.8 95 3.92 3.15 22.9 MotorV Autom 4    2   "
            ]
          },
          "metadata": {}
        },
        {
          "output_type": "stream",
          "name": "stdout",
          "text": [
            "variable carb----------------------------------------------------------------------------------"
          ]
        },
        {
          "output_type": "display_data",
          "data": {
            "text/html": [
              "<table class=\"dataframe\">\n",
              "<caption>A data.frame: 1 × 11</caption>\n",
              "<thead>\n",
              "\t<tr><th></th><th scope=col>mpg</th><th scope=col>cyl</th><th scope=col>disp</th><th scope=col>hp</th><th scope=col>drat</th><th scope=col>wt</th><th scope=col>qsec</th><th scope=col>vs</th><th scope=col>am</th><th scope=col>gear</th><th scope=col>carb</th></tr>\n",
              "\t<tr><th></th><th scope=col>&lt;dbl&gt;</th><th scope=col>&lt;dbl&gt;</th><th scope=col>&lt;dbl&gt;</th><th scope=col>&lt;dbl&gt;</th><th scope=col>&lt;dbl&gt;</th><th scope=col>&lt;dbl&gt;</th><th scope=col>&lt;dbl&gt;</th><th scope=col>&lt;fct&gt;</th><th scope=col>&lt;fct&gt;</th><th scope=col>&lt;int&gt;</th><th scope=col>&lt;int&gt;</th></tr>\n",
              "</thead>\n",
              "<tbody>\n",
              "\t<tr><th scope=row>Maserati Bora</th><td>15</td><td>8</td><td>301</td><td>335</td><td>3.54</td><td>3.57</td><td>14.6</td><td>MotorLinea</td><td>MAnual</td><td>5</td><td>8</td></tr>\n",
              "</tbody>\n",
              "</table>\n"
            ],
            "text/markdown": "\nA data.frame: 1 × 11\n\n| <!--/--> | mpg &lt;dbl&gt; | cyl &lt;dbl&gt; | disp &lt;dbl&gt; | hp &lt;dbl&gt; | drat &lt;dbl&gt; | wt &lt;dbl&gt; | qsec &lt;dbl&gt; | vs &lt;fct&gt; | am &lt;fct&gt; | gear &lt;int&gt; | carb &lt;int&gt; |\n|---|---|---|---|---|---|---|---|---|---|---|---|\n| Maserati Bora | 15 | 8 | 301 | 335 | 3.54 | 3.57 | 14.6 | MotorLinea | MAnual | 5 | 8 |\n\n",
            "text/latex": "A data.frame: 1 × 11\n\\begin{tabular}{r|lllllllllll}\n  & mpg & cyl & disp & hp & drat & wt & qsec & vs & am & gear & carb\\\\\n  & <dbl> & <dbl> & <dbl> & <dbl> & <dbl> & <dbl> & <dbl> & <fct> & <fct> & <int> & <int>\\\\\n\\hline\n\tMaserati Bora & 15 & 8 & 301 & 335 & 3.54 & 3.57 & 14.6 & MotorLinea & MAnual & 5 & 8\\\\\n\\end{tabular}\n",
            "text/plain": [
              "              mpg cyl disp hp  drat wt   qsec vs         am     gear carb\n",
              "Maserati Bora 15  8   301  335 3.54 3.57 14.6 MotorLinea MAnual 5    8   "
            ]
          },
          "metadata": {}
        }
      ]
    },
    {
      "cell_type": "code",
      "source": [
        "#Reemplazar outliers por el valor mayor\n",
        "\n",
        "max_hp = max(boxplot.stats(dfi$hp)$stats)\n",
        "max_hp\n",
        "dfi$hp=replace(dfi$hp, dfi$hp>max_hp, max_hp)\n",
        "\n",
        "max_wt = max(boxplot.stats(dfi$wt)$stats)\n",
        "max_wt\n",
        "dfi$wt=replace(dfi$wt, dfi$wt>max_wt,max_wt)\n",
        "\n",
        "max_qsec = max(boxplot.stats(dfi$qsec)$stats)\n",
        "max_qsec\n",
        "dfi$qsec=replace(dfi$qsec, dfi$qsec>max_qsec,max_qsec)\n",
        "\n",
        "max_carb = max(boxplot.stats(dfi$carb)$stats)\n",
        "max_carb\n",
        "dfi$carb=replace(dfi$carb, dfi$carb>max_carb,max_carb)\n"
      ],
      "metadata": {
        "colab": {
          "base_uri": "https://localhost:8080/",
          "height": 86
        },
        "id": "wzehiL_v34iv",
        "outputId": "e5faba86-0be6-408e-b8e1-2f57f64930c4"
      },
      "execution_count": 75,
      "outputs": [
        {
          "output_type": "display_data",
          "data": {
            "text/html": [
              "264"
            ],
            "text/markdown": "264",
            "text/latex": "264",
            "text/plain": [
              "[1] 264"
            ]
          },
          "metadata": {}
        },
        {
          "output_type": "display_data",
          "data": {
            "text/html": [
              "5.25"
            ],
            "text/markdown": "5.25",
            "text/latex": "5.25",
            "text/plain": [
              "[1] 5.25"
            ]
          },
          "metadata": {}
        },
        {
          "output_type": "display_data",
          "data": {
            "text/html": [
              "20.22"
            ],
            "text/markdown": "20.22",
            "text/latex": "20.22",
            "text/plain": [
              "[1] 20.22"
            ]
          },
          "metadata": {}
        },
        {
          "output_type": "display_data",
          "data": {
            "text/html": [
              "6"
            ],
            "text/markdown": "6",
            "text/latex": "6",
            "text/plain": [
              "[1] 6"
            ]
          },
          "metadata": {}
        }
      ]
    },
    {
      "cell_type": "code",
      "source": [
        "#Se comprueba el reemplazo exitoso de los outliers\n",
        "estandarizado=scale(dfi[,-c(8,9)])\n",
        "boxplot(estandarizado, col=\"cyan\")"
      ],
      "metadata": {
        "colab": {
          "base_uri": "https://localhost:8080/",
          "height": 437
        },
        "id": "Uf1HBlMf36dG",
        "outputId": "979cb708-717c-4d5c-f865-72c9a2e83036"
      },
      "execution_count": 76,
      "outputs": [
        {
          "output_type": "display_data",
          "data": {
            "text/plain": [
              "plot without title"
            ],
            "image/png": "[encoded data removed]"
          },
          "metadata": {
            "image/png": {
              "width": 420,
              "height": 420
            }
          }
        }
      ]
    },
    {
      "cell_type": "markdown",
      "source": [
        "**5. Relación entre variables**\n",
        "\n",
        "> 5.1. relaciones entre variables numericas(Correlaciones)\n",
        "\n",
        "> 5.2. Relaciones entre variables categoricas(Tabla de contingencia y test chicuadrado)\n",
        "\n",
        "> 5.3. Relaciones entre variables categoricas y numericas (Test-t o ANOVA)\n",
        "\n",
        "\n",
        "Obs 1: el test-t se usa cuando la variable categorica tiene solo dos categorias\n",
        "\n",
        "Obs 2: la ANOVA se usa cuando la variable catrgeorica tiene mas de dos categorias"
      ],
      "metadata": {
        "id": "N_r98EbcKSdy"
      }
    },
    {
      "cell_type": "code",
      "source": [
        "#Paquetes necesarios\n",
        "\n",
        "install.packages(\"corrplot\")\n",
        "library(corrplot)"
      ],
      "metadata": {
        "id": "H6hYKThfTqxa"
      },
      "execution_count": null,
      "outputs": []
    },
    {
      "cell_type": "code",
      "source": [
        "#5.1 Relación entre variables numericas\n",
        "\n",
        "# Seleccionamos las variables numéricas\n",
        "var_n = dfi[, -c(8,9)]\n",
        "\n",
        "#Calculamos la matriz de coeficientes de correlación entre las variables numéricas\n",
        "cor_n = round(cor(var_n),2)\n",
        "\n",
        "#Gráfico de correlaciones indicando la forma en la que se representa la correlación\n",
        "corrplot(cor_n, method = \"number\")\n",
        "\n",
        "#corrplot(cor_n, method = \"square\")"
      ],
      "metadata": {
        "id": "H8RY7X4ET4Q1"
      },
      "execution_count": null,
      "outputs": []
    },
    {
      "cell_type": "code",
      "source": [
        "# 5.2. Relaciones entre variables categoricas(Tabla de contingencia y test chicuadrado)\n",
        "\n",
        "tabla1 = table(dfi$vs, dfi$am)\n",
        "plot(tabla1, main=\"Relación entre variables categoricas\", col=\"orange\")\n",
        "\n",
        "#Test chicuadrado\n",
        "t1=chisq.test(tabla1)\n",
        "\n",
        "#H0: No existe relación\n",
        "#H1: Existe relación\n",
        "\n",
        "ifelse(t1$p.value<0.05,\"Existe relación entre el tipo de motor y la transmisión\",\n",
        "\"No existe relación entre el tipo de motor y la transmisión\")"
      ],
      "metadata": {
        "colab": {
          "base_uri": "https://localhost:8080/",
          "height": 454
        },
        "id": "3gG_C9fiWL14",
        "outputId": "d8622688-1110-40cf-b54d-9de5b9b9b6f7"
      },
      "execution_count": 91,
      "outputs": [
        {
          "output_type": "display_data",
          "data": {
            "text/html": [
              "'No existe relación entre el tipo de motor y la transmisión'"
            ],
            "text/markdown": "'No existe relación entre el tipo de motor y la transmisión'",
            "text/latex": "'No existe relación entre el tipo de motor y la transmisión'",
            "text/plain": [
              "[1] \"No existe relación entre el tipo de motor y la transmisión\""
            ]
          },
          "metadata": {}
        },
        {
          "output_type": "display_data",
          "data": {
            "text/plain": [
              "Plot with title “Relación entre variables categoricas”"
            ],
            "image/png": "[encoded data removed]"
          },
          "metadata": {
            "image/png": {
              "width": 420,
              "height": 420
            }
          }
        }
      ]
    },
    {
      "cell_type": "code",
      "source": [
        "# 5.3. Relaciones entre variables categoricas y numericas (Test-t o ANOVA)\n",
        "\n",
        "cat_num = dfi[, c(\"mpg\", \"vs\")]\n",
        "relacion = group_by(cat_num, vs)\n",
        "summarise(relacion, promedio=mean(mpg))\n",
        "\n"
      ],
      "metadata": {
        "id": "mInMuO5QaJVZ"
      },
      "execution_count": null,
      "outputs": []
    },
    {
      "cell_type": "code",
      "source": [
        "boxplot(dfi$mpg~dfi$vs, col=\"orange\")"
      ],
      "metadata": {
        "id": "94HIS5jndqOt"
      },
      "execution_count": null,
      "outputs": []
    },
    {
      "cell_type": "code",
      "source": [
        "#test-t\n",
        "\n",
        "t2=t.test(df$mpg~dfi$vs)\n",
        "\n",
        "ifelse(t2$p.value<0.05,\"Existe relación entre el tipo de motor y el rendiemiento del automovil\",\n",
        "\"No existe relación entre el tipo de motor y el rendimiento del automovil\")"
      ],
      "metadata": {
        "colab": {
          "base_uri": "https://localhost:8080/",
          "height": 34
        },
        "id": "Q1h-siNidvtt",
        "outputId": "169a7908-0157-4cd4-8bd3-6a91fc474f10"
      },
      "execution_count": 92,
      "outputs": [
        {
          "output_type": "display_data",
          "data": {
            "text/html": [
              "'Existe relación entre el tipo de motor y el rendiemiento del automovil'"
            ],
            "text/markdown": "'Existe relación entre el tipo de motor y el rendiemiento del automovil'",
            "text/latex": "'Existe relación entre el tipo de motor y el rendiemiento del automovil'",
            "text/plain": [
              "[1] \"Existe relación entre el tipo de motor y el rendiemiento del automovil\""
            ]
          },
          "metadata": {}
        }
      ]
    }
  ]
}