{
  "nbformat": 4,
  "nbformat_minor": 0,
  "metadata": {
    "colab": {
      "provenance": [],
      "authorship_tag": "ABX9TyOpzssm2AmrJZGOGs9hU/xW",
      "include_colab_link": true
    },
    "kernelspec": {
      "name": "ir",
      "display_name": "R"
    },
    "language_info": {
      "name": "R"
    }
  },
  "cells": [
    {
      "cell_type": "markdown",
      "metadata": {
        "id": "view-in-github",
        "colab_type": "text"
      },
      "source": [
        "<a href=\"https://colab.research.google.com/github/ignacioalfaro03/BI-UCSC/blob/main/BI_Taller_1.ipynb\" target=\"_parent\"><img src=\"https://colab.research.google.com/assets/colab-badge.svg\" alt=\"Open In Colab\"/></a>"
      ]
    },
    {
      "cell_type": "markdown",
      "source": [
        "**TALLER 01: IGNACIO ALFARO ZÁRATE**\n",
        "\n",
        "Exploración de los datos"
      ],
      "metadata": {
        "id": "lORVHZm4yebO"
      }
    },
    {
      "cell_type": "markdown",
      "source": [
        "\n",
        "## Objetivos\n",
        "\n",
        "- Familiarizarse con el conjunto de datos tips.\n",
        "- Practicar la manipulación y exploración de datos\n",
        "- Aplicar técnicas de visualización de datos para obtener insights.\n",
        "- Reforzar conceptos de estadística descriptiva y correlación.\n",
        "\n",
        "## Tareas\n",
        "\n",
        "1. ¿Cuál es el tamaño promedio de los grupos que dan propinas?\n",
        "2. ¿Cuál es el día de la semana con mayor cantidad total de propinas?\n",
        "3. ¿Cómo varía la propina promedio entre los diferentes días de la semana?\n",
        "4. ¿Cuál es la relación entre el total de la cuenta y la propina dada?\n",
        "5. ¿Hay alguna diferencia notable en las propinas dadas por fumadores vs no fumadores?\n",
        "6. ¿Qué porcentaje de las cuentas superan los 50 dólares?\n",
        "7. ¿Cómo se distribuyen las facturas por género del pagador?\n",
        "8. ¿Existe alguna correlación entre el tamaño del grupo y el porcentaje de la propina?\n",
        "9. ¿Cuál es el tiempo (almuerzo o cena) con el promedio más alto de cuenta total?\n",
        "10. ¿Cómo se distribuye el tamaño de las propinas en los diferentes días de la semana?\n",
        "11. ¿Cuál es el máximo, mínimo y promedio de las cuentas por día de la semana?\n",
        "12. ¿Cómo afecta el tamaño del grupo al total de la factura?\n",
        "13. ¿Cuál es la propina más alta registrada y en qué circunstancias se dio?\n",
        "14. ¿Qué porcentaje de las cuentas por día de la semana son de fumadores?\n",
        "15. ¿Cómo afecta ser fumador o no al tamaño promedio del grupo?"
      ],
      "metadata": {
        "id": "J954p9V-KxXJ"
      }
    },
    {
      "cell_type": "markdown",
      "source": [
        "## Instruccones de trabajo\n",
        "\n",
        "1. Convertir los datos en un data frame.\n",
        "2. tener un entendimiento acabado de los datos.\n",
        "3. Generar un resumen estadistico de los datos.\n",
        "4. Reajustar las variables.\n",
        "\n",
        "Obs: Proceso ciclico"
      ],
      "metadata": {
        "id": "xZ1xZhzePJ6H"
      }
    },
    {
      "cell_type": "markdown",
      "source": [],
      "metadata": {
        "id": "oyFn3Fgxm-1m"
      }
    },
    {
      "cell_type": "code",
      "source": [
        "#Cargar las librerias\n",
        "\n",
        "library(tidyverse)\n",
        "\n",
        "library(readxl)"
      ],
      "metadata": {
        "id": "As8Q1vdgLzjg"
      },
      "execution_count": null,
      "outputs": []
    },
    {
      "cell_type": "markdown",
      "source": [
        "**tidyverse**: Proporciona una colección de paquetes para manipular y visualizar datos de manera efectiva.\n",
        "\n",
        "**readxl**: Permite leer archivos de Excel en R para su análisis."
      ],
      "metadata": {
        "id": "wgPYiHnmSjgS"
      }
    },
    {
      "cell_type": "code",
      "source": [
        "#1 CONVERTIR LOS DATOS EN UN DATAFRAME\n",
        "\n",
        "df = read.csv(\"/content/tips.csv\") #Lee un archivo CSV llamado \"tips.csv\" y guarda los datos en un dataframe llamado df.\n",
        "\n",
        "head(df) #Muestra las primeras filas del dataframe df."
      ],
      "metadata": {
        "id": "v1cP4IFKN-r3",
        "colab": {
          "base_uri": "https://localhost:8080/",
          "height": 286
        },
        "outputId": "2eb1e16b-f228-48f2-bd8d-e9bd6eb9626f"
      },
      "execution_count": null,
      "outputs": [
        {
          "output_type": "display_data",
          "data": {
            "text/html": [
              "<table class=\"dataframe\">\n",
              "<caption>A data.frame: 6 × 7</caption>\n",
              "<thead>\n",
              "\t<tr><th></th><th scope=col>total_bill</th><th scope=col>tip</th><th scope=col>sex</th><th scope=col>smoker</th><th scope=col>day</th><th scope=col>time</th><th scope=col>size</th></tr>\n",
              "\t<tr><th></th><th scope=col>&lt;dbl&gt;</th><th scope=col>&lt;dbl&gt;</th><th scope=col>&lt;chr&gt;</th><th scope=col>&lt;chr&gt;</th><th scope=col>&lt;chr&gt;</th><th scope=col>&lt;chr&gt;</th><th scope=col>&lt;int&gt;</th></tr>\n",
              "</thead>\n",
              "<tbody>\n",
              "\t<tr><th scope=row>1</th><td>16.99</td><td>1.01</td><td>Female</td><td>No</td><td>Sun</td><td>Dinner</td><td>2</td></tr>\n",
              "\t<tr><th scope=row>2</th><td>10.34</td><td>1.66</td><td>Male  </td><td>No</td><td>Sun</td><td>Dinner</td><td>3</td></tr>\n",
              "\t<tr><th scope=row>3</th><td>21.01</td><td>3.50</td><td>Male  </td><td>No</td><td>Sun</td><td>Dinner</td><td>3</td></tr>\n",
              "\t<tr><th scope=row>4</th><td>23.68</td><td>3.31</td><td>Male  </td><td>No</td><td>Sun</td><td>Dinner</td><td>2</td></tr>\n",
              "\t<tr><th scope=row>5</th><td>24.59</td><td>3.61</td><td>Female</td><td>No</td><td>Sun</td><td>Dinner</td><td>4</td></tr>\n",
              "\t<tr><th scope=row>6</th><td>25.29</td><td>4.71</td><td>Male  </td><td>No</td><td>Sun</td><td>Dinner</td><td>4</td></tr>\n",
              "</tbody>\n",
              "</table>\n"
            ],
            "text/markdown": "\nA data.frame: 6 × 7\n\n| <!--/--> | total_bill &lt;dbl&gt; | tip &lt;dbl&gt; | sex &lt;chr&gt; | smoker &lt;chr&gt; | day &lt;chr&gt; | time &lt;chr&gt; | size &lt;int&gt; |\n|---|---|---|---|---|---|---|---|\n| 1 | 16.99 | 1.01 | Female | No | Sun | Dinner | 2 |\n| 2 | 10.34 | 1.66 | Male   | No | Sun | Dinner | 3 |\n| 3 | 21.01 | 3.50 | Male   | No | Sun | Dinner | 3 |\n| 4 | 23.68 | 3.31 | Male   | No | Sun | Dinner | 2 |\n| 5 | 24.59 | 3.61 | Female | No | Sun | Dinner | 4 |\n| 6 | 25.29 | 4.71 | Male   | No | Sun | Dinner | 4 |\n\n",
            "text/latex": "A data.frame: 6 × 7\n\\begin{tabular}{r|lllllll}\n  & total\\_bill & tip & sex & smoker & day & time & size\\\\\n  & <dbl> & <dbl> & <chr> & <chr> & <chr> & <chr> & <int>\\\\\n\\hline\n\t1 & 16.99 & 1.01 & Female & No & Sun & Dinner & 2\\\\\n\t2 & 10.34 & 1.66 & Male   & No & Sun & Dinner & 3\\\\\n\t3 & 21.01 & 3.50 & Male   & No & Sun & Dinner & 3\\\\\n\t4 & 23.68 & 3.31 & Male   & No & Sun & Dinner & 2\\\\\n\t5 & 24.59 & 3.61 & Female & No & Sun & Dinner & 4\\\\\n\t6 & 25.29 & 4.71 & Male   & No & Sun & Dinner & 4\\\\\n\\end{tabular}\n",
            "text/plain": [
              "  total_bill tip  sex    smoker day time   size\n",
              "1 16.99      1.01 Female No     Sun Dinner 2   \n",
              "2 10.34      1.66 Male   No     Sun Dinner 3   \n",
              "3 21.01      3.50 Male   No     Sun Dinner 3   \n",
              "4 23.68      3.31 Male   No     Sun Dinner 2   \n",
              "5 24.59      3.61 Female No     Sun Dinner 4   \n",
              "6 25.29      4.71 Male   No     Sun Dinner 4   "
            ]
          },
          "metadata": {}
        }
      ]
    },
    {
      "cell_type": "code",
      "source": [
        "#2 TENER UN ENTENDIMIENTO ACABADO DE LOS DATOS\n",
        "\n",
        "str(df) #str(df) ofrece una descripción concisa de la estructura del dataframe df, incluyendo los tipos de datos de cada columna y la cantidad de observaciones.\n"
      ],
      "metadata": {
        "colab": {
          "base_uri": "https://localhost:8080/"
        },
        "id": "nK-Gj8Q3QRbw",
        "outputId": "0af2b93a-062a-4c59-d70c-ad627e35b62d"
      },
      "execution_count": null,
      "outputs": [
        {
          "output_type": "stream",
          "name": "stdout",
          "text": [
            "'data.frame':\t244 obs. of  7 variables:\n",
            " $ total_bill: num  17 10.3 21 23.7 24.6 ...\n",
            " $ tip       : num  1.01 1.66 3.5 3.31 3.61 4.71 2 3.12 1.96 3.23 ...\n",
            " $ sex       : chr  \"Female\" \"Male\" \"Male\" \"Male\" ...\n",
            " $ smoker    : chr  \"No\" \"No\" \"No\" \"No\" ...\n",
            " $ day       : chr  \"Sun\" \"Sun\" \"Sun\" \"Sun\" ...\n",
            " $ time      : chr  \"Dinner\" \"Dinner\" \"Dinner\" \"Dinner\" ...\n",
            " $ size      : int  2 3 3 2 4 4 2 4 2 2 ...\n"
          ]
        }
      ]
    },
    {
      "cell_type": "code",
      "source": [
        "#3.GENERAR UN RESUMEN ESTADISTICO DE LOS DATOS\n",
        "\n",
        "summary(df) #summary(df) en R proporciona un resumen estadístico de las variables en el dataframe df"
      ],
      "metadata": {
        "colab": {
          "base_uri": "https://localhost:8080/",
          "height": 260
        },
        "id": "xAaDBjt7RxQg",
        "outputId": "67e69d28-97a2-4806-e2a2-555f948b554f"
      },
      "execution_count": null,
      "outputs": [
        {
          "output_type": "display_data",
          "data": {
            "text/plain": [
              "   total_bill         tip             sex               smoker         \n",
              " Min.   : 3.07   Min.   : 1.000   Length:244         Length:244        \n",
              " 1st Qu.:13.35   1st Qu.: 2.000   Class :character   Class :character  \n",
              " Median :17.80   Median : 2.900   Mode  :character   Mode  :character  \n",
              " Mean   :19.79   Mean   : 2.998                                        \n",
              " 3rd Qu.:24.13   3rd Qu.: 3.562                                        \n",
              " Max.   :50.81   Max.   :10.000                                        \n",
              "     day                time                size     \n",
              " Length:244         Length:244         Min.   :1.00  \n",
              " Class :character   Class :character   1st Qu.:2.00  \n",
              " Mode  :character   Mode  :character   Median :2.00  \n",
              "                                       Mean   :2.57  \n",
              "                                       3rd Qu.:3.00  \n",
              "                                       Max.   :6.00  "
            ]
          },
          "metadata": {}
        }
      ]
    },
    {
      "cell_type": "code",
      "source": [
        "# Generamos los histogramas de dos variables numéricas que presenta la tabla de datos:\n",
        "\n",
        "hist_total_bill = hist(df$total_bill, main = \"Histograma - Total Bill\",\n",
        "                      xlab = \"Total bill\",\n",
        "                      ylab = \"Frecuencia\",\n",
        "                      xlim = c(0,80),\n",
        "                      ylim = c(0,80),\n",
        "                      breaks = 10)\n",
        "\n",
        "hist_total_bill = hist(df$tip, main = \"Histograma - Tip\",\n",
        "                      xlab = \"Tip\",\n",
        "                      ylab = \"Frecuencia\",\n",
        "                      xlim = c(0,100),\n",
        "                      ylim = c(0,100),\n",
        "                      breaks = 10)\n"
      ],
      "metadata": {
        "colab": {
          "base_uri": "https://localhost:8080/",
          "height": 857
        },
        "id": "yMhtGpvGgDf8",
        "outputId": "54ed0eed-ec76-46b5-ca81-4fec6cc7fc3a"
      },
      "execution_count": null,
      "outputs": [
        {
          "output_type": "display_data",
          "data": {
            "text/plain": [
              "Plot with title “Histograma - Total Bill”"
            ],
            "image/png": "[encoded data removed]"
          },
          "metadata": {
            "image/png": {
              "width": 420,
              "height": 420
            }
          }
        },
        {
          "output_type": "display_data",
          "data": {
            "text/plain": [
              "Plot with title “Histograma - Tip”"
            ],
            "image/png": "[encoded data removed]"
          },
          "metadata": {
            "image/png": {
              "width": 420,
              "height": 420
            }
          }
        }
      ]
    },
    {
      "cell_type": "code",
      "source": [
        "#4 REAJUSTE DE LAS VARIABLES\n",
        "\n",
        "unique(df$sex)\n",
        "df$sex = as.factor(df$sex)\n",
        "\n",
        "unique(df$day)\n",
        "df$day = as.factor(df$day)\n",
        "\n",
        "unique(df$smoker)\n",
        "df$smoker = as.factor(df$smoker)\n",
        "\n",
        "unique(df$time)\n",
        "df$time = as.factor(df$time)\n",
        "\n",
        "#Ajusta las variables en el dataframe df convirtiéndolas en factores (Variables Categoricas)"
      ],
      "metadata": {
        "id": "QHLE9GTiSL04",
        "colab": {
          "base_uri": "https://localhost:8080/",
          "height": 156
        },
        "outputId": "136c230b-b4ed-462b-9069-8c9eea3f42f2"
      },
      "execution_count": null,
      "outputs": [
        {
          "output_type": "display_data",
          "data": {
            "text/html": [
              "<style>\n",
              ".list-inline {list-style: none; margin:0; padding: 0}\n",
              ".list-inline>li {display: inline-block}\n",
              ".list-inline>li:not(:last-child)::after {content: \"\\00b7\"; padding: 0 .5ex}\n",
              "</style>\n",
              "<ol class=list-inline><li>Female</li><li>Male</li></ol>\n",
              "\n",
              "<details>\n",
              "\t<summary style=display:list-item;cursor:pointer>\n",
              "\t\t<strong>Levels</strong>:\n",
              "\t</summary>\n",
              "\t<style>\n",
              "\t.list-inline {list-style: none; margin:0; padding: 0}\n",
              "\t.list-inline>li {display: inline-block}\n",
              "\t.list-inline>li:not(:last-child)::after {content: \"\\00b7\"; padding: 0 .5ex}\n",
              "\t</style>\n",
              "\t<ol class=list-inline><li>'Female'</li><li>'Male'</li></ol>\n",
              "</details>"
            ],
            "text/markdown": "1. Female\n2. Male\n\n\n\n**Levels**: 1. 'Female'\n2. 'Male'\n\n\n",
            "text/latex": "\\begin{enumerate*}\n\\item Female\n\\item Male\n\\end{enumerate*}\n\n\\emph{Levels}: \\begin{enumerate*}\n\\item 'Female'\n\\item 'Male'\n\\end{enumerate*}\n",
            "text/plain": [
              "[1] Female Male  \n",
              "Levels: Female Male"
            ]
          },
          "metadata": {}
        },
        {
          "output_type": "display_data",
          "data": {
            "text/html": [
              "<style>\n",
              ".list-inline {list-style: none; margin:0; padding: 0}\n",
              ".list-inline>li {display: inline-block}\n",
              ".list-inline>li:not(:last-child)::after {content: \"\\00b7\"; padding: 0 .5ex}\n",
              "</style>\n",
              "<ol class=list-inline><li>Sun</li><li>Sat</li><li>Thur</li><li>Fri</li></ol>\n",
              "\n",
              "<details>\n",
              "\t<summary style=display:list-item;cursor:pointer>\n",
              "\t\t<strong>Levels</strong>:\n",
              "\t</summary>\n",
              "\t<style>\n",
              "\t.list-inline {list-style: none; margin:0; padding: 0}\n",
              "\t.list-inline>li {display: inline-block}\n",
              "\t.list-inline>li:not(:last-child)::after {content: \"\\00b7\"; padding: 0 .5ex}\n",
              "\t</style>\n",
              "\t<ol class=list-inline><li>'Fri'</li><li>'Sat'</li><li>'Sun'</li><li>'Thur'</li></ol>\n",
              "</details>"
            ],
            "text/markdown": "1. Sun\n2. Sat\n3. Thur\n4. Fri\n\n\n\n**Levels**: 1. 'Fri'\n2. 'Sat'\n3. 'Sun'\n4. 'Thur'\n\n\n",
            "text/latex": "\\begin{enumerate*}\n\\item Sun\n\\item Sat\n\\item Thur\n\\item Fri\n\\end{enumerate*}\n\n\\emph{Levels}: \\begin{enumerate*}\n\\item 'Fri'\n\\item 'Sat'\n\\item 'Sun'\n\\item 'Thur'\n\\end{enumerate*}\n",
            "text/plain": [
              "[1] Sun  Sat  Thur Fri \n",
              "Levels: Fri Sat Sun Thur"
            ]
          },
          "metadata": {}
        },
        {
          "output_type": "display_data",
          "data": {
            "text/html": [
              "<style>\n",
              ".list-inline {list-style: none; margin:0; padding: 0}\n",
              ".list-inline>li {display: inline-block}\n",
              ".list-inline>li:not(:last-child)::after {content: \"\\00b7\"; padding: 0 .5ex}\n",
              "</style>\n",
              "<ol class=list-inline><li>No</li><li>Yes</li></ol>\n",
              "\n",
              "<details>\n",
              "\t<summary style=display:list-item;cursor:pointer>\n",
              "\t\t<strong>Levels</strong>:\n",
              "\t</summary>\n",
              "\t<style>\n",
              "\t.list-inline {list-style: none; margin:0; padding: 0}\n",
              "\t.list-inline>li {display: inline-block}\n",
              "\t.list-inline>li:not(:last-child)::after {content: \"\\00b7\"; padding: 0 .5ex}\n",
              "\t</style>\n",
              "\t<ol class=list-inline><li>'No'</li><li>'Yes'</li></ol>\n",
              "</details>"
            ],
            "text/markdown": "1. No\n2. Yes\n\n\n\n**Levels**: 1. 'No'\n2. 'Yes'\n\n\n",
            "text/latex": "\\begin{enumerate*}\n\\item No\n\\item Yes\n\\end{enumerate*}\n\n\\emph{Levels}: \\begin{enumerate*}\n\\item 'No'\n\\item 'Yes'\n\\end{enumerate*}\n",
            "text/plain": [
              "[1] No  Yes\n",
              "Levels: No Yes"
            ]
          },
          "metadata": {}
        },
        {
          "output_type": "display_data",
          "data": {
            "text/html": [
              "<style>\n",
              ".list-inline {list-style: none; margin:0; padding: 0}\n",
              ".list-inline>li {display: inline-block}\n",
              ".list-inline>li:not(:last-child)::after {content: \"\\00b7\"; padding: 0 .5ex}\n",
              "</style>\n",
              "<ol class=list-inline><li>Dinner</li><li>Lunch</li></ol>\n",
              "\n",
              "<details>\n",
              "\t<summary style=display:list-item;cursor:pointer>\n",
              "\t\t<strong>Levels</strong>:\n",
              "\t</summary>\n",
              "\t<style>\n",
              "\t.list-inline {list-style: none; margin:0; padding: 0}\n",
              "\t.list-inline>li {display: inline-block}\n",
              "\t.list-inline>li:not(:last-child)::after {content: \"\\00b7\"; padding: 0 .5ex}\n",
              "\t</style>\n",
              "\t<ol class=list-inline><li>'Dinner'</li><li>'Lunch'</li></ol>\n",
              "</details>"
            ],
            "text/markdown": "1. Dinner\n2. Lunch\n\n\n\n**Levels**: 1. 'Dinner'\n2. 'Lunch'\n\n\n",
            "text/latex": "\\begin{enumerate*}\n\\item Dinner\n\\item Lunch\n\\end{enumerate*}\n\n\\emph{Levels}: \\begin{enumerate*}\n\\item 'Dinner'\n\\item 'Lunch'\n\\end{enumerate*}\n",
            "text/plain": [
              "[1] Dinner Lunch \n",
              "Levels: Dinner Lunch"
            ]
          },
          "metadata": {}
        }
      ]
    },
    {
      "cell_type": "code",
      "source": [
        "#3 GENERAR UN RESUMEN ESTADISTICO DE LOS DATOS\n",
        "\n",
        "#Variables Reajustadas\n",
        "\n",
        "summary(df)"
      ],
      "metadata": {
        "colab": {
          "base_uri": "https://localhost:8080/",
          "height": 260
        },
        "id": "PaQtJFi5Soh4",
        "outputId": "06bc98ce-27bd-4abb-f160-8bc19797da78"
      },
      "execution_count": null,
      "outputs": [
        {
          "output_type": "display_data",
          "data": {
            "text/plain": [
              "   total_bill         tip             sex               smoker         \n",
              " Min.   : 3.07   Min.   : 1.000   Length:244         Length:244        \n",
              " 1st Qu.:13.35   1st Qu.: 2.000   Class :character   Class :character  \n",
              " Median :17.80   Median : 2.900   Mode  :character   Mode  :character  \n",
              " Mean   :19.79   Mean   : 2.998                                        \n",
              " 3rd Qu.:24.13   3rd Qu.: 3.562                                        \n",
              " Max.   :50.81   Max.   :10.000                                        \n",
              "     day                time                size     \n",
              " Length:244         Length:244         Min.   :1.00  \n",
              " Class :character   Class :character   1st Qu.:2.00  \n",
              " Mode  :character   Mode  :character   Median :2.00  \n",
              "                                       Mean   :2.57  \n",
              "                                       3rd Qu.:3.00  \n",
              "                                       Max.   :6.00  "
            ]
          },
          "metadata": {}
        }
      ]
    },
    {
      "cell_type": "code",
      "source": [
        "#PREGUNTA 01\n",
        "#¿Cuál es el tamaño promedio de los grupos que dan propinas?\n",
        "\n",
        "library(dplyr)\n",
        "\n",
        "p1 = df %>% filter(tip > 0)\n",
        "n = nrow(p1)\n",
        "average_size = mean(p1$size)\n",
        "\n",
        "cat(\"El tamaño promedio de los grupos que dan propinas es: \", round(average_size, 2))"
      ],
      "metadata": {
        "id": "P2UG16qsvE0A"
      },
      "execution_count": null,
      "outputs": []
    },
    {
      "cell_type": "code",
      "source": [
        "#PREGUNTA 02\n",
        "#¿Cuál es el día de la semana con mayor cantidad total de propinas?\n",
        "\n",
        "p2=df[,c(\"tip\",\"day\")] %>% group_by(day) %>% summarise(Total = sum(tip))\n",
        "p2=as.matrix(p2)\n",
        "p2\n",
        "cat(\"El día de la semana con mayor cantidad total de propinas es el: \",p2[2,1], \"y el total es\", p2[2,2], \"dolares\")"
      ],
      "metadata": {
        "id": "yvByTNp8VTJZ"
      },
      "execution_count": null,
      "outputs": []
    },
    {
      "cell_type": "code",
      "source": [
        "#PRREGUNTA 03\n",
        "#¿Cómo varía la propina promedio entre los diferentes días de la semana?\n",
        "\n",
        "t1=df[,c(\"tip\",\"day\")] %>% group_by(day) %>% summarise(promedio = mean(tip))\n",
        "p3=sd(t1$promedio)\n",
        "t1\n",
        "p3\n",
        "cat(\"La variación de la propina promedio entre los diferentes días de la semana es:\",round(p3,2), \"dolares\")"
      ],
      "metadata": {
        "id": "FJ8pgwGUZBk5"
      },
      "execution_count": null,
      "outputs": []
    },
    {
      "cell_type": "code",
      "source": [
        "#PREGUNTA 04\n",
        "#¿Cuál es la relación entre el total de la cuenta y la propina dada?\n",
        "\n",
        "p4=df[,c(\"tip\",\"total_bill\")] %>% cor()\n",
        "p4\n",
        "cat(\"la relación entre el total de la cuenta y la propina dada es: \", p4)"
      ],
      "metadata": {
        "id": "ly3D5NwPapUC"
      },
      "execution_count": null,
      "outputs": []
    },
    {
      "cell_type": "code",
      "source": [
        "#PREGUNTA 05\n",
        "#¿Hay alguna diferencia notable en las propinas dadas por fumadores vs no fumadores?\"\n",
        "\n",
        "df[,c(\"tip\",\"smoker\")] %>% group_by(smoker) %>% summarise(promedio = mean(tip))"
      ],
      "metadata": {
        "id": "TND8RjZVcLPq"
      },
      "execution_count": null,
      "outputs": []
    },
    {
      "cell_type": "code",
      "source": [
        "boxplot(df$tip~df$smoker,\n",
        "                 main=\"Diferencia por estado de Fumador\",\n",
        "                 xlab=\"Condición\",\n",
        "                 ylab=\"Propina\",\n",
        "                 col=\"cyan\")"
      ],
      "metadata": {
        "colab": {
          "base_uri": "https://localhost:8080/",
          "height": 437
        },
        "id": "pIAXcrQqcxBC",
        "outputId": "37ac0c0c-3553-4074-e4f1-ca2d70e62a4a"
      },
      "execution_count": null,
      "outputs": [
        {
          "output_type": "display_data",
          "data": {
            "text/plain": [
              "Plot with title “Diferencia por estado de Fumador”"
            ],
            "image/png": "[encoded data removed]"
          },
          "metadata": {
            "image/png": {
              "width": 420,
              "height": 420
            }
          }
        }
      ]
    },
    {
      "cell_type": "code",
      "source": [
        "#test de hipotesis\n",
        "\n",
        "Test=t.test(df$tip~df$smoker)\n",
        "pvalor=Test$p.value\n",
        "ifelse(pvalor<0.05, \"Si existe diferencia notable en las propinas dadas por fumadores vs No fumadores\",\n",
        "\"NO existe diferencia notable en las propinas dadas por fumadores vs no fumadores\")"
      ],
      "metadata": {
        "id": "AusdVJCJdwwC"
      },
      "execution_count": null,
      "outputs": []
    },
    {
      "cell_type": "code",
      "source": [
        "#PREGUNTA 06\n",
        "#¿Qué porcentaje de las cuentas superan los 50 dólares?\n",
        "\n",
        "num = df %>% filter(total_bill>50) %>% nrow()\n",
        "num\n",
        "den = nrow(df)\n",
        "den\n",
        "porcentaje = (num/den)*100\n",
        "porcentaje\n",
        "cat(\"El porcentaje de las cuentas superan los 50 dólares: \", round(porcentaje,2))"
      ],
      "metadata": {
        "id": "hr5MxYgdezKZ"
      },
      "execution_count": null,
      "outputs": []
    },
    {
      "cell_type": "code",
      "source": [
        "#PREGUNTA 07\n",
        "#¿Cómo se distribuyen las facturas por género del pagador?\n",
        "\n",
        "df$sex %>% table()"
      ],
      "metadata": {
        "id": "zuLcglUpfoJq"
      },
      "execution_count": null,
      "outputs": []
    },
    {
      "cell_type": "code",
      "source": [
        "#PREGUNTA 08\n",
        "#¿Existe alguna correlación entre el tamaño del grupo y el porcentaje de la propina?\n",
        "\n",
        "correlation <- cor(df$size, df$tip / df$total_bill * 100)\n",
        "correlation\n",
        "if (correlation >= 0.5) {\n",
        "  cat(\"Sí, existe una correlación positiva fuerte entre el tamaño del grupo y el porcentaje de la propina.\\n\")\n",
        "} else if (correlation <= -0.5) {\n",
        "  cat(\"Sí, existe una correlación negativa fuerte entre el tamaño del grupo y el porcentaje de la propina.\\n\")\n",
        "} else {\n",
        "  cat(\"No, no hay una correlación fuerte entre el tamaño del grupo y el porcentaje de la propina.\\n\")\n",
        "}\n",
        "cat(\"La correlación entre el tamaño del grupo y el porcentaje de la propina es:\", correlation, \"\\n\")"
      ],
      "metadata": {
        "id": "2jpjsIccTriM"
      },
      "execution_count": null,
      "outputs": []
    },
    {
      "cell_type": "code",
      "source": [
        "#PREGUNTA 09\n",
        "#¿Cuál es el tiempo (almuerzo o cena) con el promedio más alto de cuenta total?\n",
        "\n",
        "result = df %>% group_by(time) %>% summarize(promedio_total_cuenta = mean(total_bill)) %>% arrange(desc(promedio_total_cuenta)) %>% slice(1)\n",
        "result\n",
        "cat(\"El tiempo con el promedio más alto de cuenta total es:\", result$time, \"\\n\")"
      ],
      "metadata": {
        "id": "_FPynkZz70GW"
      },
      "execution_count": null,
      "outputs": []
    },
    {
      "cell_type": "code",
      "source": [
        "#PREGUNTA 10\n",
        "#¿Cómo se distribuye el tamaño de las propinas en los diferentes días de la semana?\n",
        "\n",
        "result <- df %>%\n",
        "  group_by(day) %>%\n",
        "  summarize(max_propina = max(tip),\n",
        "            min_propina = min(tip),\n",
        "            promedio_propina = mean(tip))\n",
        "print(result)"
      ],
      "metadata": {
        "id": "2vQY3fbS70dn"
      },
      "execution_count": null,
      "outputs": []
    },
    {
      "cell_type": "code",
      "source": [
        "#PREGUNTA 11\n",
        "#¿Cuál es el máximo, mínimo y promedio de las cuentas por día de la semana?\n",
        "\n",
        "df %>%\n",
        "  group_by(day) %>%\n",
        "  summarize(max_cuenta = max(total_bill),\n",
        "            min_cuenta = min(total_bill),\n",
        "            promedio_cuenta = mean(total_bill))\n",
        "            cat(\"Las estadísticas de cuentas por día de la semana son las siguientes:\\n\")\n",
        "print(result)"
      ],
      "metadata": {
        "id": "aPXf4i3F70o3"
      },
      "execution_count": null,
      "outputs": []
    },
    {
      "cell_type": "code",
      "source": [
        "#PREGUNTA 12\n",
        "#¿Cómo afecta el tamaño del grupo al total de la factura?\n",
        "\n",
        "result <- df %>%\n",
        "  group_by(size) %>%\n",
        "  summarize(promedio_cuenta = mean(total_bill))\n",
        "cat(\"El tamaño del grupo afecta al total de la factura de la siguiente manera: \", toString(unique(result$size)), \"\\n\")"
      ],
      "metadata": {
        "id": "7g2y6uPt701G"
      },
      "execution_count": null,
      "outputs": []
    },
    {
      "cell_type": "code",
      "source": [
        "#PREGUNTA 13\n",
        "#¿Cuál es la propina más alta registrada y en qué circunstancias se dio?7\n",
        "\n",
        "highest_tip <- df %>%\n",
        "  filter(tip == max(df$tip))\n",
        "cat(\"La propina más alta registrada fue de $\", highest_tip$tip, \". Se dio en las siguientes circunstancias:\\n\")\n",
        "cat(\"Día:\", highest_tip$day, \"\\n\")\n",
        "cat(\"Hora:\", highest_tip$time, \"\\n\")\n",
        "cat(\"Tamaño del grupo:\", highest_tip$size, \"\\n\")\n",
        "cat(\"Total de la cuenta:\", highest_tip$total_bill, \"\\n\")"
      ],
      "metadata": {
        "id": "aGJN4j8c70-g"
      },
      "execution_count": null,
      "outputs": []
    },
    {
      "cell_type": "code",
      "source": [
        "#PREGUNTA 14\n",
        "#¿Qué porcentaje de las cuentas por día de la semana son de fumadores?\n",
        "\n",
        "result <- df %>%\n",
        "  group_by(day) %>%\n",
        "  summarize(porcentaje_fumadores = mean(smoker == \"Yes\") * 100)\n",
        "cat(\"El porcentaje de cuentas de fumadores por día de la semana es:\\n\")\n",
        "print(result)"
      ],
      "metadata": {
        "id": "k6YnFmfk71Gu"
      },
      "execution_count": null,
      "outputs": []
    },
    {
      "cell_type": "code",
      "source": [
        "#PREGUNTA 15\n",
        "#¿Cómo afecta ser fumador o no al tamaño promedio del grupo?\n",
        "\n",
        "result <- df %>%\n",
        "  group_by(smoker) %>%\n",
        "  summarize(promedio_tamaño_grupo = mean(size))\n",
        "cat(\"El tamaño promedio del grupo para fumadores y no fumadores es el siguiente:\\n\")\n",
        "print(result)"
      ],
      "metadata": {
        "id": "dFnBQouG71PX"
      },
      "execution_count": null,
      "outputs": []
    }
  ]
}