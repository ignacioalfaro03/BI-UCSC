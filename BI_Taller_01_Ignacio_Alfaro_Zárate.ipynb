{
  "nbformat": 4,
  "nbformat_minor": 0,
  "metadata": {
    "colab": {
      "provenance": [],
      "authorship_tag": "ABX9TyMDtKFyznTw3qyy0sGGLCvP",
      "include_colab_link": true
    },
    "kernelspec": {
      "name": "ir",
      "display_name": "R"
    },
    "language_info": {
      "name": "R"
    }
  },
  "cells": [
    {
      "cell_type": "markdown",
      "metadata": {
        "id": "view-in-github",
        "colab_type": "text"
      },
      "source": [
        "<a href=\"https://colab.research.google.com/github/ignacioalfaro03/BI-UCSC/blob/main/BI_Taller_01_Ignacio_Alfaro_Z%C3%A1rate.ipynb\" target=\"_parent\"><img src=\"https://colab.research.google.com/assets/colab-badge.svg\" alt=\"Open In Colab\"/></a>"
      ]
    },
    {
      "cell_type": "markdown",
      "source": [
        "**TALLER 01: IGNACIO ALFARO ZÁRATE**\n"
      ],
      "metadata": {
        "id": "lORVHZm4yebO"
      }
    },
    {
      "cell_type": "markdown",
      "source": [
        "Celda de texto <u-BXXNH-6E-Y>\n",
        "# %% [markdown]\n",
        "<div style=\"text-align: justify;\">\n",
        "\n",
        "# Taller Práctico : Explorando el Conjunto de Datos Tips con Python\n",
        "\n",
        "## Descripción\n",
        "\n",
        "Este taller práctico está diseñado para estudiantes de visualización Data  que desean aplicar y profundizar sus conocimientos en manipulación  de datos utilizando Python. Usaremos el conjunto de datos tips, disponible en la librería Seaborn, que incluye información sobre propinas en un restaurante. El objetivo es realizar un análisis exploratorio para entender mejor las dinámicas de las propinas y cómo diferentes factores pueden influir en ellas.\n",
        "\n",
        "## Objetivos\n",
        "\n",
        "Familiarizarse con el conjunto de datos tips.\n",
        "Practicar la manipulación y exploración de datos con Pandas y Seaborn. Aplicar técnicas de visualización de datos para obtener insights. Reforzar conceptos de estadística descriptiva y correlación.\n",
        "\n",
        "## Pasos Preliminares\n",
        "\n",
        "Asegúrate de tener instalado Python 3.x en tu sistema.\n",
        "Instala las siguientes librerías utilizando pip:\n",
        "\n",
        "1. \"library(tidyverse)\"\n",
        "\n",
        "Abre tu entorno de desarrollo preferido para trabajar con notebooks de Jupyter (por ejemplo, Jupyter Notebook, JupyterLab, o incluso VS Code).\n",
        "\n",
        "## Tareas\n",
        "\n",
        "A continuación, encontrarás una serie de preguntas para guiar tu análisis del conjunto de datos tips. Para cada pregunta, realiza las operaciones necesarias para encontrar la respuesta y documenta tus hallazgos.\n",
        "\n",
        "\n",
        "\n",
        "\n",
        "1. ¿Cuál es el tamaño promedio de los grupos que dan propinas?\n",
        "2. ¿Cuál es el día de la semana con mayor cantidad total de propinas?\n",
        "3. ¿Cómo varía la propina promedio entre los diferentes días de la semana?\n",
        "4. ¿Cuál es la relación entre el total de la cuenta y la propina dada?\n",
        "5. ¿Hay alguna diferencia notable en las propinas dadas por fumadores vs no fumadores?\n",
        "6. ¿Qué porcentaje de las cuentas superan los 50 dólares?\n",
        "7. ¿Cómo se distribuyen las facturas por género del pagador?\n",
        "8. ¿Existe alguna correlación entre el tamaño del grupo y el porcentaje de la propina?\n",
        "9. ¿Cuál es el tiempo (almuerzo o cena) con el promedio más alto de cuenta total?\n",
        "10. ¿Cómo se distribuye el tamaño de las propinas en los diferentes días de la semana?\n",
        "11. ¿Cuál es el máximo, mínimo y promedio de las cuentas por día de la semana?\n",
        "12. ¿Cómo afecta el tamaño del grupo al total de la factura?\n",
        "13. ¿Cuál es la propina más alta registrada y en qué circunstancias se dio?\n",
        "14. ¿Qué porcentaje de las cuentas por día de la semana son de fumadores?\n",
        "15. ¿Cómo afecta ser fumador o no al tamaño promedio del grupo?\n",
        "\n",
        "\n",
        "</div>\n",
        "\n",
        "\n",
        "Celda de código <a8FrikKP8b4l>\n",
        "# %% [code]\n",
        "\n",
        "\n",
        "\n"
      ],
      "metadata": {
        "id": "J954p9V-KxXJ"
      }
    },
    {
      "cell_type": "markdown",
      "source": [],
      "metadata": {
        "id": "A9BQap1nT0F7"
      }
    },
    {
      "cell_type": "code",
      "source": [
        "#Cargar las librerias\n",
        "\n",
        "library(tidyverse) #esta libreria nos permite trabajar con la manipulación de datos\n",
        "library(readxl)"
      ],
      "metadata": {
        "id": "As8Q1vdgLzjg",
        "colab": {
          "base_uri": "https://localhost:8080/"
        },
        "outputId": "32c83767-b1ad-47b9-f697-9a9fe6923476"
      },
      "execution_count": null,
      "outputs": [
        {
          "output_type": "stream",
          "name": "stderr",
          "text": [
            "── \u001b[1mAttaching core tidyverse packages\u001b[22m ──────────────────────── tidyverse 2.0.0 ──\n",
            "\u001b[32m✔\u001b[39m \u001b[34mdplyr    \u001b[39m 1.1.4     \u001b[32m✔\u001b[39m \u001b[34mreadr    \u001b[39m 2.1.5\n",
            "\u001b[32m✔\u001b[39m \u001b[34mforcats  \u001b[39m 1.0.0     \u001b[32m✔\u001b[39m \u001b[34mstringr  \u001b[39m 1.5.1\n",
            "\u001b[32m✔\u001b[39m \u001b[34mggplot2  \u001b[39m 3.4.4     \u001b[32m✔\u001b[39m \u001b[34mtibble   \u001b[39m 3.2.1\n",
            "\u001b[32m✔\u001b[39m \u001b[34mlubridate\u001b[39m 1.9.3     \u001b[32m✔\u001b[39m \u001b[34mtidyr    \u001b[39m 1.3.1\n",
            "\u001b[32m✔\u001b[39m \u001b[34mpurrr    \u001b[39m 1.0.2     \n",
            "── \u001b[1mConflicts\u001b[22m ────────────────────────────────────────── tidyverse_conflicts() ──\n",
            "\u001b[31m✖\u001b[39m \u001b[34mdplyr\u001b[39m::\u001b[32mfilter()\u001b[39m masks \u001b[34mstats\u001b[39m::filter()\n",
            "\u001b[31m✖\u001b[39m \u001b[34mdplyr\u001b[39m::\u001b[32mlag()\u001b[39m    masks \u001b[34mstats\u001b[39m::lag()\n",
            "\u001b[36mℹ\u001b[39m Use the conflicted package (\u001b[3m\u001b[34m<http://conflicted.r-lib.org/>\u001b[39m\u001b[23m) to force all conflicts to become errors\n"
          ]
        }
      ]
    },
    {
      "cell_type": "code",
      "source": [
        "\n"
      ],
      "metadata": {
        "id": "v1cP4IFKN-r3",
        "colab": {
          "base_uri": "https://localhost:8080/",
          "height": 286
        },
        "outputId": "abb64cf9-a680-4569-eb30-8f081d6913e5"
      },
      "execution_count": null,
      "outputs": [
        {
          "output_type": "display_data",
          "data": {
            "text/html": [
              "<table class=\"dataframe\">\n",
              "<caption>A data.frame: 6 × 7</caption>\n",
              "<thead>\n",
              "\t<tr><th></th><th scope=col>total_bill</th><th scope=col>tip</th><th scope=col>sex</th><th scope=col>smoker</th><th scope=col>day</th><th scope=col>time</th><th scope=col>size</th></tr>\n",
              "\t<tr><th></th><th scope=col>&lt;dbl&gt;</th><th scope=col>&lt;dbl&gt;</th><th scope=col>&lt;chr&gt;</th><th scope=col>&lt;chr&gt;</th><th scope=col>&lt;chr&gt;</th><th scope=col>&lt;chr&gt;</th><th scope=col>&lt;int&gt;</th></tr>\n",
              "</thead>\n",
              "<tbody>\n",
              "\t<tr><th scope=row>1</th><td>16.99</td><td>1.01</td><td>Female</td><td>No</td><td>Sun</td><td>Dinner</td><td>2</td></tr>\n",
              "\t<tr><th scope=row>2</th><td>10.34</td><td>1.66</td><td>Male  </td><td>No</td><td>Sun</td><td>Dinner</td><td>3</td></tr>\n",
              "\t<tr><th scope=row>3</th><td>21.01</td><td>3.50</td><td>Male  </td><td>No</td><td>Sun</td><td>Dinner</td><td>3</td></tr>\n",
              "\t<tr><th scope=row>4</th><td>23.68</td><td>3.31</td><td>Male  </td><td>No</td><td>Sun</td><td>Dinner</td><td>2</td></tr>\n",
              "\t<tr><th scope=row>5</th><td>24.59</td><td>3.61</td><td>Female</td><td>No</td><td>Sun</td><td>Dinner</td><td>4</td></tr>\n",
              "\t<tr><th scope=row>6</th><td>25.29</td><td>4.71</td><td>Male  </td><td>No</td><td>Sun</td><td>Dinner</td><td>4</td></tr>\n",
              "</tbody>\n",
              "</table>\n"
            ],
            "text/markdown": "\nA data.frame: 6 × 7\n\n| <!--/--> | total_bill &lt;dbl&gt; | tip &lt;dbl&gt; | sex &lt;chr&gt; | smoker &lt;chr&gt; | day &lt;chr&gt; | time &lt;chr&gt; | size &lt;int&gt; |\n|---|---|---|---|---|---|---|---|\n| 1 | 16.99 | 1.01 | Female | No | Sun | Dinner | 2 |\n| 2 | 10.34 | 1.66 | Male   | No | Sun | Dinner | 3 |\n| 3 | 21.01 | 3.50 | Male   | No | Sun | Dinner | 3 |\n| 4 | 23.68 | 3.31 | Male   | No | Sun | Dinner | 2 |\n| 5 | 24.59 | 3.61 | Female | No | Sun | Dinner | 4 |\n| 6 | 25.29 | 4.71 | Male   | No | Sun | Dinner | 4 |\n\n",
            "text/latex": "A data.frame: 6 × 7\n\\begin{tabular}{r|lllllll}\n  & total\\_bill & tip & sex & smoker & day & time & size\\\\\n  & <dbl> & <dbl> & <chr> & <chr> & <chr> & <chr> & <int>\\\\\n\\hline\n\t1 & 16.99 & 1.01 & Female & No & Sun & Dinner & 2\\\\\n\t2 & 10.34 & 1.66 & Male   & No & Sun & Dinner & 3\\\\\n\t3 & 21.01 & 3.50 & Male   & No & Sun & Dinner & 3\\\\\n\t4 & 23.68 & 3.31 & Male   & No & Sun & Dinner & 2\\\\\n\t5 & 24.59 & 3.61 & Female & No & Sun & Dinner & 4\\\\\n\t6 & 25.29 & 4.71 & Male   & No & Sun & Dinner & 4\\\\\n\\end{tabular}\n",
            "text/plain": [
              "  total_bill tip  sex    smoker day time   size\n",
              "1 16.99      1.01 Female No     Sun Dinner 2   \n",
              "2 10.34      1.66 Male   No     Sun Dinner 3   \n",
              "3 21.01      3.50 Male   No     Sun Dinner 3   \n",
              "4 23.68      3.31 Male   No     Sun Dinner 2   \n",
              "5 24.59      3.61 Female No     Sun Dinner 4   \n",
              "6 25.29      4.71 Male   No     Sun Dinner 4   "
            ]
          },
          "metadata": {}
        }
      ]
    },
    {
      "cell_type": "markdown",
      "source": [
        "Instruccones de trabajo\n",
        "1. Convertir los datos en un data frame.\n",
        "2. tener un entendimiento acabado de los datos.\n",
        "3. Generar un resumen estadistico de los datos.\n",
        "4. Reajustar las variables.\n",
        "\n",
        "Obs: Proceso ciclico"
      ],
      "metadata": {
        "id": "xZ1xZhzePJ6H"
      }
    },
    {
      "cell_type": "code",
      "source": [
        "#2 tener un entendimiento acabado de los datos.\n",
        "\n",
        "#Pedir información de los datos\n",
        "\n",
        "str(df)\n",
        "head(df)"
      ],
      "metadata": {
        "colab": {
          "base_uri": "https://localhost:8080/",
          "height": 425
        },
        "id": "nK-Gj8Q3QRbw",
        "outputId": "da49085f-a645-4db1-dbec-ee95b2680849"
      },
      "execution_count": null,
      "outputs": [
        {
          "output_type": "stream",
          "name": "stdout",
          "text": [
            "'data.frame':\t244 obs. of  7 variables:\n",
            " $ total_bill: num  17 10.3 21 23.7 24.6 ...\n",
            " $ tip       : num  1.01 1.66 3.5 3.31 3.61 4.71 2 3.12 1.96 3.23 ...\n",
            " $ sex       : chr  \"Female\" \"Male\" \"Male\" \"Male\" ...\n",
            " $ smoker    : chr  \"No\" \"No\" \"No\" \"No\" ...\n",
            " $ day       : chr  \"Sun\" \"Sun\" \"Sun\" \"Sun\" ...\n",
            " $ time      : chr  \"Dinner\" \"Dinner\" \"Dinner\" \"Dinner\" ...\n",
            " $ size      : int  2 3 3 2 4 4 2 4 2 2 ...\n"
          ]
        },
        {
          "output_type": "display_data",
          "data": {
            "text/html": [
              "<table class=\"dataframe\">\n",
              "<caption>A data.frame: 6 × 7</caption>\n",
              "<thead>\n",
              "\t<tr><th></th><th scope=col>total_bill</th><th scope=col>tip</th><th scope=col>sex</th><th scope=col>smoker</th><th scope=col>day</th><th scope=col>time</th><th scope=col>size</th></tr>\n",
              "\t<tr><th></th><th scope=col>&lt;dbl&gt;</th><th scope=col>&lt;dbl&gt;</th><th scope=col>&lt;chr&gt;</th><th scope=col>&lt;chr&gt;</th><th scope=col>&lt;chr&gt;</th><th scope=col>&lt;chr&gt;</th><th scope=col>&lt;int&gt;</th></tr>\n",
              "</thead>\n",
              "<tbody>\n",
              "\t<tr><th scope=row>1</th><td>16.99</td><td>1.01</td><td>Female</td><td>No</td><td>Sun</td><td>Dinner</td><td>2</td></tr>\n",
              "\t<tr><th scope=row>2</th><td>10.34</td><td>1.66</td><td>Male  </td><td>No</td><td>Sun</td><td>Dinner</td><td>3</td></tr>\n",
              "\t<tr><th scope=row>3</th><td>21.01</td><td>3.50</td><td>Male  </td><td>No</td><td>Sun</td><td>Dinner</td><td>3</td></tr>\n",
              "\t<tr><th scope=row>4</th><td>23.68</td><td>3.31</td><td>Male  </td><td>No</td><td>Sun</td><td>Dinner</td><td>2</td></tr>\n",
              "\t<tr><th scope=row>5</th><td>24.59</td><td>3.61</td><td>Female</td><td>No</td><td>Sun</td><td>Dinner</td><td>4</td></tr>\n",
              "\t<tr><th scope=row>6</th><td>25.29</td><td>4.71</td><td>Male  </td><td>No</td><td>Sun</td><td>Dinner</td><td>4</td></tr>\n",
              "</tbody>\n",
              "</table>\n"
            ],
            "text/markdown": "\nA data.frame: 6 × 7\n\n| <!--/--> | total_bill &lt;dbl&gt; | tip &lt;dbl&gt; | sex &lt;chr&gt; | smoker &lt;chr&gt; | day &lt;chr&gt; | time &lt;chr&gt; | size &lt;int&gt; |\n|---|---|---|---|---|---|---|---|\n| 1 | 16.99 | 1.01 | Female | No | Sun | Dinner | 2 |\n| 2 | 10.34 | 1.66 | Male   | No | Sun | Dinner | 3 |\n| 3 | 21.01 | 3.50 | Male   | No | Sun | Dinner | 3 |\n| 4 | 23.68 | 3.31 | Male   | No | Sun | Dinner | 2 |\n| 5 | 24.59 | 3.61 | Female | No | Sun | Dinner | 4 |\n| 6 | 25.29 | 4.71 | Male   | No | Sun | Dinner | 4 |\n\n",
            "text/latex": "A data.frame: 6 × 7\n\\begin{tabular}{r|lllllll}\n  & total\\_bill & tip & sex & smoker & day & time & size\\\\\n  & <dbl> & <dbl> & <chr> & <chr> & <chr> & <chr> & <int>\\\\\n\\hline\n\t1 & 16.99 & 1.01 & Female & No & Sun & Dinner & 2\\\\\n\t2 & 10.34 & 1.66 & Male   & No & Sun & Dinner & 3\\\\\n\t3 & 21.01 & 3.50 & Male   & No & Sun & Dinner & 3\\\\\n\t4 & 23.68 & 3.31 & Male   & No & Sun & Dinner & 2\\\\\n\t5 & 24.59 & 3.61 & Female & No & Sun & Dinner & 4\\\\\n\t6 & 25.29 & 4.71 & Male   & No & Sun & Dinner & 4\\\\\n\\end{tabular}\n",
            "text/plain": [
              "  total_bill tip  sex    smoker day time   size\n",
              "1 16.99      1.01 Female No     Sun Dinner 2   \n",
              "2 10.34      1.66 Male   No     Sun Dinner 3   \n",
              "3 21.01      3.50 Male   No     Sun Dinner 3   \n",
              "4 23.68      3.31 Male   No     Sun Dinner 2   \n",
              "5 24.59      3.61 Female No     Sun Dinner 4   \n",
              "6 25.29      4.71 Male   No     Sun Dinner 4   "
            ]
          },
          "metadata": {}
        }
      ]
    },
    {
      "cell_type": "markdown",
      "source": [],
      "metadata": {
        "id": "n-VlS8j3X6Bw"
      }
    },
    {
      "cell_type": "markdown",
      "source": [
        "Descripción de los datos: Este data set tiene como dimensión 244 filas y 7 columnas, describe el comportamiento de compra de los clientes de un restobar"
      ],
      "metadata": {
        "id": "dlI6xfSZREwe"
      }
    },
    {
      "cell_type": "code",
      "source": [
        "#3. Generar un resumen estadistico de los datos.\n",
        "\n",
        "summary(df)"
      ],
      "metadata": {
        "colab": {
          "base_uri": "https://localhost:8080/",
          "height": 260
        },
        "id": "xAaDBjt7RxQg",
        "outputId": "dc6bcc62-63db-45e6-eb65-0c3884c6c48d"
      },
      "execution_count": null,
      "outputs": [
        {
          "output_type": "display_data",
          "data": {
            "text/plain": [
              "   total_bill         tip             sex               smoker         \n",
              " Min.   : 3.07   Min.   : 1.000   Length:244         Length:244        \n",
              " 1st Qu.:13.35   1st Qu.: 2.000   Class :character   Class :character  \n",
              " Median :17.80   Median : 2.900   Mode  :character   Mode  :character  \n",
              " Mean   :19.79   Mean   : 2.998                                        \n",
              " 3rd Qu.:24.13   3rd Qu.: 3.562                                        \n",
              " Max.   :50.81   Max.   :10.000                                        \n",
              "     day                time                size     \n",
              " Length:244         Length:244         Min.   :1.00  \n",
              " Class :character   Class :character   1st Qu.:2.00  \n",
              " Mode  :character   Mode  :character   Median :2.00  \n",
              "                                       Mean   :2.57  \n",
              "                                       3rd Qu.:3.00  \n",
              "                                       Max.   :6.00  "
            ]
          },
          "metadata": {}
        }
      ]
    },
    {
      "cell_type": "code",
      "source": [
        "#4 Reajuste de variablesa\n",
        "\n",
        "df$sex = as.factor(df$sex)\n",
        "df$day = as.factor(df$day)\n",
        "df$smoker = as.factor(df$smoker)\n",
        "df$time = as.factor(df$time)\n"
      ],
      "metadata": {
        "id": "QHLE9GTiSL04"
      },
      "execution_count": null,
      "outputs": []
    },
    {
      "cell_type": "code",
      "source": [
        "# Resumen estadistico\n",
        "\n",
        "summary(df)"
      ],
      "metadata": {
        "colab": {
          "base_uri": "https://localhost:8080/",
          "height": 260
        },
        "id": "PaQtJFi5Soh4",
        "outputId": "e37704fb-0030-40c5-b5ab-0af201202886"
      },
      "execution_count": null,
      "outputs": [
        {
          "output_type": "display_data",
          "data": {
            "text/plain": [
              "   total_bill         tip             sex      smoker      day         time    \n",
              " Min.   : 3.07   Min.   : 1.000   Female: 87   No :151   Fri :19   Dinner:176  \n",
              " 1st Qu.:13.35   1st Qu.: 2.000   Male  :157   Yes: 93   Sat :87   Lunch : 68  \n",
              " Median :17.80   Median : 2.900                          Sun :76               \n",
              " Mean   :19.79   Mean   : 2.998                          Thur:62               \n",
              " 3rd Qu.:24.13   3rd Qu.: 3.562                                                \n",
              " Max.   :50.81   Max.   :10.000                                                \n",
              "      size     \n",
              " Min.   :1.00  \n",
              " 1st Qu.:2.00  \n",
              " Median :2.00  \n",
              " Mean   :2.57  \n",
              " 3rd Qu.:3.00  \n",
              " Max.   :6.00  "
            ]
          },
          "metadata": {}
        }
      ]
    },
    {
      "cell_type": "markdown",
      "source": [
        "1. ¿Cuál es el tamaño promedio de los grupos que dan propinas?\n",
        "2. ¿Cuál es el día de la semana con mayor cantidad total de propinas?\n",
        "3. ¿Cómo varía la propina promedio entre los diferentes días de la semana?\n",
        "4. ¿Cuál es la relación entre el total de la cuenta y la propina dada?\n",
        "5. ¿Hay alguna diferencia notable en las propinas dadas por fumadores vs no fumadores?\n",
        "6. ¿Qué porcentaje de las cuentas superan los 50 dólares?\n",
        "7. ¿Cómo se distribuyen las facturas por género del pagador?\n",
        "8. ¿Existe alguna correlación entre el tamaño del grupo y el porcentaje de la propina?\n",
        "9. ¿Cuál es el tiempo (almuerzo o cena) con el promedio más alto de cuenta total?\n",
        "10. ¿Cómo se distribuye el tamaño de las propinas en los diferentes días de la semana?\n",
        "11. ¿Cuál es el máximo, mínimo y promedio de las cuentas por día de la semana?\n",
        "12. ¿Cómo afecta el tamaño del grupo al total de la factura?\n",
        "13. ¿Cuál es la propina más alta registrada y en qué circunstancias se dio?\n",
        "14. ¿Qué porcentaje de las cuentas por día de la semana son de fumadores?\n",
        "15. ¿Cómo afecta ser fumador o no al tamaño promedio del grupo?\n"
      ],
      "metadata": {
        "id": "LSVSE6b9fq2a"
      }
    },
    {
      "cell_type": "code",
      "source": [
        "# Cargar los datos nuevamente\n",
        "df = read.csv(\"/content/tips.csv\")\n",
        "\n",
        "# Asegurarnos de que las variables categóricas estén definidas como factores\n",
        "df$sex = as.factor(df$sex)\n",
        "df$day = as.factor(df$day)\n",
        "df$smoker = as.factor(df$smoker)\n",
        "df$time = as.factor(df$time)\n",
        "\n"
      ],
      "metadata": {
        "id": "3JbogHjIRubI"
      },
      "execution_count": null,
      "outputs": []
    },
    {
      "cell_type": "code",
      "source": [
        "#PREGUNTA 01\n",
        "#¿Cuál es el tamaño promedio de los grupos que dan propinas?\n",
        "\n",
        "library(dplyr)\n",
        "\n",
        "p1 = df %>% filter(tip > 0)\n",
        "n = nrow(p1)\n",
        "average_size = mean(p1$size)\n",
        "\n",
        "cat(\"El tamaño promedio de los grupos que dan propinas es: \", round(average_size, 2))"
      ],
      "metadata": {
        "colab": {
          "base_uri": "https://localhost:8080/"
        },
        "id": "P2UG16qsvE0A",
        "outputId": "3b371ad3-89ee-48e7-b777-872a5962a58f"
      },
      "execution_count": null,
      "outputs": [
        {
          "output_type": "stream",
          "name": "stdout",
          "text": [
            "El tamaño promedio de los grupos que dan propinas es:  2.57"
          ]
        }
      ]
    },
    {
      "cell_type": "code",
      "source": [
        "#PREGUNTA 02\n",
        "#¿Cuál es el día de la semana con mayor cantidad total de propinas?\n",
        "\n",
        "p2=df[,c(\"tip\",\"day\")] %>% group_by(day) %>% summarise(Total = sum(tip))\n",
        "p2=as.matrix(p2)\n",
        "p2\n",
        "cat(\"El día de la semana con mayor cantidad total de propinas es el: \",p2[2,1], \"y el total es\", p2[2,2], \"dolares\")"
      ],
      "metadata": {
        "colab": {
          "base_uri": "https://localhost:8080/",
          "height": 227
        },
        "id": "yvByTNp8VTJZ",
        "outputId": "90f1059b-6279-4a43-ac62-f2a5c27062d3"
      },
      "execution_count": null,
      "outputs": [
        {
          "output_type": "display_data",
          "data": {
            "text/html": [
              "<table class=\"dataframe\">\n",
              "<caption>A matrix: 4 × 2 of type chr</caption>\n",
              "<thead>\n",
              "\t<tr><th scope=col>day</th><th scope=col>Total</th></tr>\n",
              "</thead>\n",
              "<tbody>\n",
              "\t<tr><td>Fri </td><td> 51.96</td></tr>\n",
              "\t<tr><td>Sat </td><td>260.40</td></tr>\n",
              "\t<tr><td>Sun </td><td>247.39</td></tr>\n",
              "\t<tr><td>Thur</td><td>171.83</td></tr>\n",
              "</tbody>\n",
              "</table>\n"
            ],
            "text/markdown": "\nA matrix: 4 × 2 of type chr\n\n| day | Total |\n|---|---|\n| Fri  |  51.96 |\n| Sat  | 260.40 |\n| Sun  | 247.39 |\n| Thur | 171.83 |\n\n",
            "text/latex": "A matrix: 4 × 2 of type chr\n\\begin{tabular}{ll}\n day & Total\\\\\n\\hline\n\t Fri  &  51.96\\\\\n\t Sat  & 260.40\\\\\n\t Sun  & 247.39\\\\\n\t Thur & 171.83\\\\\n\\end{tabular}\n",
            "text/plain": [
              "     day  Total \n",
              "[1,] Fri   51.96\n",
              "[2,] Sat  260.40\n",
              "[3,] Sun  247.39\n",
              "[4,] Thur 171.83"
            ]
          },
          "metadata": {}
        },
        {
          "output_type": "stream",
          "name": "stdout",
          "text": [
            "El día de la semana con mayor cantidad total de propinas es el:  Sat y el total es 260.40 dolares"
          ]
        }
      ]
    },
    {
      "cell_type": "code",
      "source": [
        "#PRREGUNTA 03\n",
        "#Cómo varía la propina promedio entre los diferentes días de la semana\n",
        "t1=df[,c(\"tip\",\"day\")] %>% group_by(day) %>% summarise(promedio = mean(tip))\n",
        "p3=sd(t1$promedio)\n",
        "t1\n",
        "p3\n",
        "cat(\"La variación de la propina promedio entre los diferentes días de la semana es:\",round(p3,2), \"dolares\")"
      ],
      "metadata": {
        "colab": {
          "base_uri": "https://localhost:8080/",
          "height": 258
        },
        "id": "FJ8pgwGUZBk5",
        "outputId": "848ea327-f0a7-4e51-dcd0-5fc21bc291c7"
      },
      "execution_count": null,
      "outputs": [
        {
          "output_type": "display_data",
          "data": {
            "text/html": [
              "<table class=\"dataframe\">\n",
              "<caption>A tibble: 4 × 2</caption>\n",
              "<thead>\n",
              "\t<tr><th scope=col>day</th><th scope=col>promedio</th></tr>\n",
              "\t<tr><th scope=col>&lt;fct&gt;</th><th scope=col>&lt;dbl&gt;</th></tr>\n",
              "</thead>\n",
              "<tbody>\n",
              "\t<tr><td>Fri </td><td>2.734737</td></tr>\n",
              "\t<tr><td>Sat </td><td>2.993103</td></tr>\n",
              "\t<tr><td>Sun </td><td>3.255132</td></tr>\n",
              "\t<tr><td>Thur</td><td>2.771452</td></tr>\n",
              "</tbody>\n",
              "</table>\n"
            ],
            "text/markdown": "\nA tibble: 4 × 2\n\n| day &lt;fct&gt; | promedio &lt;dbl&gt; |\n|---|---|\n| Fri  | 2.734737 |\n| Sat  | 2.993103 |\n| Sun  | 3.255132 |\n| Thur | 2.771452 |\n\n",
            "text/latex": "A tibble: 4 × 2\n\\begin{tabular}{ll}\n day & promedio\\\\\n <fct> & <dbl>\\\\\n\\hline\n\t Fri  & 2.734737\\\\\n\t Sat  & 2.993103\\\\\n\t Sun  & 3.255132\\\\\n\t Thur & 2.771452\\\\\n\\end{tabular}\n",
            "text/plain": [
              "  day  promedio\n",
              "1 Fri  2.734737\n",
              "2 Sat  2.993103\n",
              "3 Sun  3.255132\n",
              "4 Thur 2.771452"
            ]
          },
          "metadata": {}
        },
        {
          "output_type": "display_data",
          "data": {
            "text/html": [
              "0.239903895107247"
            ],
            "text/markdown": "0.239903895107247",
            "text/latex": "0.239903895107247",
            "text/plain": [
              "[1] 0.2399039"
            ]
          },
          "metadata": {}
        },
        {
          "output_type": "stream",
          "name": "stdout",
          "text": [
            "La variación de la propina promedio entre los diferentes días de la semana es: 0.24 dolares"
          ]
        }
      ]
    },
    {
      "cell_type": "code",
      "source": [
        "#PREGUNTA 04\n",
        "#¿Cuál es la relación entre el total de la cuenta y la propina dada?\n",
        "p4=df[,c(\"tip\",\"total_bill\")] %>% cor()\n",
        "p4\n",
        "cat(\"la relación entre el total de la cuenta y la propina dada es: \", p4)"
      ],
      "metadata": {
        "colab": {
          "base_uri": "https://localhost:8080/",
          "height": 146
        },
        "id": "ly3D5NwPapUC",
        "outputId": "40a8c1b3-d7b8-45c7-9e37-ee54f5e73e45"
      },
      "execution_count": null,
      "outputs": [
        {
          "output_type": "display_data",
          "data": {
            "text/html": [
              "<table class=\"dataframe\">\n",
              "<caption>A matrix: 2 × 2 of type dbl</caption>\n",
              "<thead>\n",
              "\t<tr><th></th><th scope=col>tip</th><th scope=col>total_bill</th></tr>\n",
              "</thead>\n",
              "<tbody>\n",
              "\t<tr><th scope=row>tip</th><td>1.0000000</td><td>0.6757341</td></tr>\n",
              "\t<tr><th scope=row>total_bill</th><td>0.6757341</td><td>1.0000000</td></tr>\n",
              "</tbody>\n",
              "</table>\n"
            ],
            "text/markdown": "\nA matrix: 2 × 2 of type dbl\n\n| <!--/--> | tip | total_bill |\n|---|---|---|\n| tip | 1.0000000 | 0.6757341 |\n| total_bill | 0.6757341 | 1.0000000 |\n\n",
            "text/latex": "A matrix: 2 × 2 of type dbl\n\\begin{tabular}{r|ll}\n  & tip & total\\_bill\\\\\n\\hline\n\ttip & 1.0000000 & 0.6757341\\\\\n\ttotal\\_bill & 0.6757341 & 1.0000000\\\\\n\\end{tabular}\n",
            "text/plain": [
              "           tip       total_bill\n",
              "tip        1.0000000 0.6757341 \n",
              "total_bill 0.6757341 1.0000000 "
            ]
          },
          "metadata": {}
        },
        {
          "output_type": "stream",
          "name": "stdout",
          "text": [
            "la relación entre el total de la cuenta y la propina dada es:  1 0.6757341 0.6757341 1"
          ]
        }
      ]
    },
    {
      "cell_type": "code",
      "source": [
        "#PREGUNTA 05\n",
        "#¿Hay alguna diferencia notable en las propinas dadas por fumadores vs no fumadores?\"\n",
        "\n",
        "df[,c(\"tip\",\"smoker\")] %>% group_by(smoker) %>% summarise(promedio = mean(tip))"
      ],
      "metadata": {
        "colab": {
          "base_uri": "https://localhost:8080/",
          "height": 160
        },
        "id": "TND8RjZVcLPq",
        "outputId": "64aed2bb-314e-4db1-8e13-8e7d897fcec3"
      },
      "execution_count": null,
      "outputs": [
        {
          "output_type": "display_data",
          "data": {
            "text/html": [
              "<table class=\"dataframe\">\n",
              "<caption>A tibble: 2 × 2</caption>\n",
              "<thead>\n",
              "\t<tr><th scope=col>smoker</th><th scope=col>promedio</th></tr>\n",
              "\t<tr><th scope=col>&lt;fct&gt;</th><th scope=col>&lt;dbl&gt;</th></tr>\n",
              "</thead>\n",
              "<tbody>\n",
              "\t<tr><td>No </td><td>2.991854</td></tr>\n",
              "\t<tr><td>Yes</td><td>3.008710</td></tr>\n",
              "</tbody>\n",
              "</table>\n"
            ],
            "text/markdown": "\nA tibble: 2 × 2\n\n| smoker &lt;fct&gt; | promedio &lt;dbl&gt; |\n|---|---|\n| No  | 2.991854 |\n| Yes | 3.008710 |\n\n",
            "text/latex": "A tibble: 2 × 2\n\\begin{tabular}{ll}\n smoker & promedio\\\\\n <fct> & <dbl>\\\\\n\\hline\n\t No  & 2.991854\\\\\n\t Yes & 3.008710\\\\\n\\end{tabular}\n",
            "text/plain": [
              "  smoker promedio\n",
              "1 No     2.991854\n",
              "2 Yes    3.008710"
            ]
          },
          "metadata": {}
        }
      ]
    },
    {
      "cell_type": "code",
      "source": [
        "boxplot(df$tip~df$smoker,\n",
        "                 main=\"Diferencia por estado de Fumador\",\n",
        "                 xlab=\"Condición\",\n",
        "                 ylab=\"Propina\",\n",
        "                 col=\"cyan\")"
      ],
      "metadata": {
        "colab": {
          "base_uri": "https://localhost:8080/",
          "height": 437
        },
        "id": "pIAXcrQqcxBC",
        "outputId": "37ac0c0c-3553-4074-e4f1-ca2d70e62a4a"
      },
      "execution_count": null,
      "outputs": [
        {
          "output_type": "display_data",
          "data": {
            "text/plain": [
              "Plot with title “Diferencia por estado de Fumador”"
            ],
            "image/png": "[encoded data removed]"
          },
          "metadata": {
            "image/png": {
              "width": 420,
              "height": 420
            }
          }
        }
      ]
    },
    {
      "cell_type": "code",
      "source": [
        "#test de hipotesis\n",
        "\n",
        "Test=t.test(df$tip~df$smoker)\n",
        "pvalor=Test$p.value\n",
        "ifelse(pvalor<0.05, \"Si existe diferencia notable en las propinas dadas por fumadores vs No fumadores\",\n",
        "\"NO existe diferencia notable en las propinas dadas por fumadores vs no fumadores\")"
      ],
      "metadata": {
        "colab": {
          "base_uri": "https://localhost:8080/",
          "height": 34
        },
        "id": "AusdVJCJdwwC",
        "outputId": "e7201ced-9cab-41c5-8537-9aebe3105d46"
      },
      "execution_count": null,
      "outputs": [
        {
          "output_type": "display_data",
          "data": {
            "text/html": [
              "'NO existe diferencia notable en las propinas dadas por fumadores vs no fumadores'"
            ],
            "text/markdown": "'NO existe diferencia notable en las propinas dadas por fumadores vs no fumadores'",
            "text/latex": "'NO existe diferencia notable en las propinas dadas por fumadores vs no fumadores'",
            "text/plain": [
              "[1] \"NO existe diferencia notable en las propinas dadas por fumadores vs no fumadores\""
            ]
          },
          "metadata": {}
        }
      ]
    },
    {
      "cell_type": "code",
      "source": [
        "#PREGUNTA 06\n",
        "#¿Qué porcentaje de las cuentas superan los 50 dólares?\n",
        "\n",
        "num = df %>% filter(total_bill>50) %>% nrow()\n",
        "num\n",
        "den = nrow(df)\n",
        "den\n",
        "porcentaje = (num/den)*100\n",
        "porcentaje\n",
        "cat(\"El porcentaje de las cuentas superan los 50 dólares: \", round(porcentaje,2))"
      ],
      "metadata": {
        "colab": {
          "base_uri": "https://localhost:8080/",
          "height": 86
        },
        "id": "hr5MxYgdezKZ",
        "outputId": "aacc3517-6343-4ed1-b7cf-f0d1e2f4889c"
      },
      "execution_count": null,
      "outputs": [
        {
          "output_type": "display_data",
          "data": {
            "text/html": [
              "1"
            ],
            "text/markdown": "1",
            "text/latex": "1",
            "text/plain": [
              "[1] 1"
            ]
          },
          "metadata": {}
        },
        {
          "output_type": "display_data",
          "data": {
            "text/html": [
              "244"
            ],
            "text/markdown": "244",
            "text/latex": "244",
            "text/plain": [
              "[1] 244"
            ]
          },
          "metadata": {}
        },
        {
          "output_type": "display_data",
          "data": {
            "text/html": [
              "0.409836065573771"
            ],
            "text/markdown": "0.409836065573771",
            "text/latex": "0.409836065573771",
            "text/plain": [
              "[1] 0.4098361"
            ]
          },
          "metadata": {}
        },
        {
          "output_type": "stream",
          "name": "stdout",
          "text": [
            "El porcentaje de las cuentas superan los 50 dólares:  0.41"
          ]
        }
      ]
    },
    {
      "cell_type": "code",
      "source": [
        "#PREGUNTA 07\n",
        "#¿Cómo se distribuyen las facturas por género del pagador?\n",
        "\n",
        "df$sex %>% table()"
      ],
      "metadata": {
        "colab": {
          "base_uri": "https://localhost:8080/",
          "height": 69
        },
        "id": "zuLcglUpfoJq",
        "outputId": "ad61405a-3e91-47aa-ca02-6aced0293bb1"
      },
      "execution_count": null,
      "outputs": [
        {
          "output_type": "display_data",
          "data": {
            "text/plain": [
              ".\n",
              "Female   Male \n",
              "    87    157 "
            ]
          },
          "metadata": {}
        }
      ]
    },
    {
      "cell_type": "code",
      "source": [
        "#PREGUNTA 08\n",
        "#¿Existe alguna correlación entre el tamaño del grupo y el porcentaje de la propina?\n",
        "correlation <- cor(df$size, df$tip / df$total_bill * 100)\n",
        "correlation\n",
        "if (correlation >= 0.5) {\n",
        "  cat(\"Sí, existe una correlación positiva fuerte entre el tamaño del grupo y el porcentaje de la propina.\\n\")\n",
        "} else if (correlation <= -0.5) {\n",
        "  cat(\"Sí, existe una correlación negativa fuerte entre el tamaño del grupo y el porcentaje de la propina.\\n\")\n",
        "} else {\n",
        "  cat(\"No, no hay una correlación fuerte entre el tamaño del grupo y el porcentaje de la propina.\\n\")\n",
        "}\n",
        "cat(\"La correlación entre el tamaño del grupo y el porcentaje de la propina es:\", correlation, \"\\n\")"
      ],
      "metadata": {
        "id": "2jpjsIccTriM",
        "colab": {
          "base_uri": "https://localhost:8080/",
          "height": 69
        },
        "outputId": "ee853242-1db0-4f1d-a9ae-4ce394efea4d"
      },
      "execution_count": null,
      "outputs": [
        {
          "output_type": "display_data",
          "data": {
            "text/html": [
              "-0.142859600693124"
            ],
            "text/markdown": "-0.142859600693124",
            "text/latex": "-0.142859600693124",
            "text/plain": [
              "[1] -0.1428596"
            ]
          },
          "metadata": {}
        },
        {
          "output_type": "stream",
          "name": "stdout",
          "text": [
            "No, no hay una correlación fuerte entre el tamaño del grupo y el porcentaje de la propina.\n",
            "La correlación entre el tamaño del grupo y el porcentaje de la propina es: -0.1428596 \n"
          ]
        }
      ]
    },
    {
      "cell_type": "code",
      "source": [
        "#PREGUNTA 09\n",
        "#¿Cuál es el tiempo (almuerzo o cena) con el promedio más alto de cuenta total?\n",
        "result = df %>% group_by(time) %>% summarize(promedio_total_cuenta = mean(total_bill)) %>% arrange(desc(promedio_total_cuenta)) %>% slice(1)\n",
        "result\n",
        "cat(\"El tiempo con el promedio más alto de cuenta total es:\", result$time, \"\\n\")"
      ],
      "metadata": {
        "id": "_FPynkZz70GW",
        "colab": {
          "base_uri": "https://localhost:8080/",
          "height": 146
        },
        "outputId": "8afe62f9-d8bb-4065-f903-1e3dddcba3fb"
      },
      "execution_count": null,
      "outputs": [
        {
          "output_type": "display_data",
          "data": {
            "text/html": [
              "<table class=\"dataframe\">\n",
              "<caption>A tibble: 1 × 2</caption>\n",
              "<thead>\n",
              "\t<tr><th scope=col>time</th><th scope=col>promedio_total_cuenta</th></tr>\n",
              "\t<tr><th scope=col>&lt;fct&gt;</th><th scope=col>&lt;dbl&gt;</th></tr>\n",
              "</thead>\n",
              "<tbody>\n",
              "\t<tr><td>Dinner</td><td>20.79716</td></tr>\n",
              "</tbody>\n",
              "</table>\n"
            ],
            "text/markdown": "\nA tibble: 1 × 2\n\n| time &lt;fct&gt; | promedio_total_cuenta &lt;dbl&gt; |\n|---|---|\n| Dinner | 20.79716 |\n\n",
            "text/latex": "A tibble: 1 × 2\n\\begin{tabular}{ll}\n time & promedio\\_total\\_cuenta\\\\\n <fct> & <dbl>\\\\\n\\hline\n\t Dinner & 20.79716\\\\\n\\end{tabular}\n",
            "text/plain": [
              "  time   promedio_total_cuenta\n",
              "1 Dinner 20.79716             "
            ]
          },
          "metadata": {}
        },
        {
          "output_type": "stream",
          "name": "stdout",
          "text": [
            "El tiempo con el promedio más alto de cuenta total es: 1 \n"
          ]
        }
      ]
    },
    {
      "cell_type": "code",
      "source": [
        "#PREGUNTA 10\n",
        "#¿Cómo se distribuye el tamaño de las propinas en los diferentes días de la semana?\n",
        "result <- df %>%\n",
        "  group_by(day) %>%\n",
        "  summarize(max_propina = max(tip),\n",
        "            min_propina = min(tip),\n",
        "            promedio_propina = mean(tip))\n",
        "print(result)"
      ],
      "metadata": {
        "id": "2vQY3fbS70dn",
        "colab": {
          "base_uri": "https://localhost:8080/"
        },
        "outputId": "187f08ba-3b88-4dc6-8661-737e3252fdeb"
      },
      "execution_count": null,
      "outputs": [
        {
          "output_type": "stream",
          "name": "stdout",
          "text": [
            "\u001b[90m# A tibble: 4 × 4\u001b[39m\n",
            "  day   max_propina min_propina promedio_propina\n",
            "  \u001b[3m\u001b[90m<fct>\u001b[39m\u001b[23m       \u001b[3m\u001b[90m<dbl>\u001b[39m\u001b[23m       \u001b[3m\u001b[90m<dbl>\u001b[39m\u001b[23m            \u001b[3m\u001b[90m<dbl>\u001b[39m\u001b[23m\n",
            "\u001b[90m1\u001b[39m Fri          4.73        1                2.73\n",
            "\u001b[90m2\u001b[39m Sat         10           1                2.99\n",
            "\u001b[90m3\u001b[39m Sun          6.5         1.01             3.26\n",
            "\u001b[90m4\u001b[39m Thur         6.7         1.25             2.77\n"
          ]
        }
      ]
    },
    {
      "cell_type": "code",
      "source": [
        "#PREGUNTA 11\n",
        "#¿Cuál es el máximo, mínimo y promedio de las cuentas por día de la semana?\n",
        "df %>%\n",
        "  group_by(day) %>%\n",
        "  summarize(max_cuenta = max(total_bill),\n",
        "            min_cuenta = min(total_bill),\n",
        "            promedio_cuenta = mean(total_bill))\n",
        "            cat(\"Las estadísticas de cuentas por día de la semana son las siguientes:\\n\")\n",
        "print(result)"
      ],
      "metadata": {
        "colab": {
          "base_uri": "https://localhost:8080/",
          "height": 362
        },
        "id": "aPXf4i3F70o3",
        "outputId": "86412a6e-70c5-4de4-c087-d435ac16681d"
      },
      "execution_count": null,
      "outputs": [
        {
          "output_type": "display_data",
          "data": {
            "text/html": [
              "<table class=\"dataframe\">\n",
              "<caption>A tibble: 4 × 4</caption>\n",
              "<thead>\n",
              "\t<tr><th scope=col>day</th><th scope=col>max_cuenta</th><th scope=col>min_cuenta</th><th scope=col>promedio_cuenta</th></tr>\n",
              "\t<tr><th scope=col>&lt;fct&gt;</th><th scope=col>&lt;dbl&gt;</th><th scope=col>&lt;dbl&gt;</th><th scope=col>&lt;dbl&gt;</th></tr>\n",
              "</thead>\n",
              "<tbody>\n",
              "\t<tr><td>Fri </td><td>40.17</td><td>5.75</td><td>17.15158</td></tr>\n",
              "\t<tr><td>Sat </td><td>50.81</td><td>3.07</td><td>20.44138</td></tr>\n",
              "\t<tr><td>Sun </td><td>48.17</td><td>7.25</td><td>21.41000</td></tr>\n",
              "\t<tr><td>Thur</td><td>43.11</td><td>7.51</td><td>17.68274</td></tr>\n",
              "</tbody>\n",
              "</table>\n"
            ],
            "text/markdown": "\nA tibble: 4 × 4\n\n| day &lt;fct&gt; | max_cuenta &lt;dbl&gt; | min_cuenta &lt;dbl&gt; | promedio_cuenta &lt;dbl&gt; |\n|---|---|---|---|\n| Fri  | 40.17 | 5.75 | 17.15158 |\n| Sat  | 50.81 | 3.07 | 20.44138 |\n| Sun  | 48.17 | 7.25 | 21.41000 |\n| Thur | 43.11 | 7.51 | 17.68274 |\n\n",
            "text/latex": "A tibble: 4 × 4\n\\begin{tabular}{llll}\n day & max\\_cuenta & min\\_cuenta & promedio\\_cuenta\\\\\n <fct> & <dbl> & <dbl> & <dbl>\\\\\n\\hline\n\t Fri  & 40.17 & 5.75 & 17.15158\\\\\n\t Sat  & 50.81 & 3.07 & 20.44138\\\\\n\t Sun  & 48.17 & 7.25 & 21.41000\\\\\n\t Thur & 43.11 & 7.51 & 17.68274\\\\\n\\end{tabular}\n",
            "text/plain": [
              "  day  max_cuenta min_cuenta promedio_cuenta\n",
              "1 Fri  40.17      5.75       17.15158       \n",
              "2 Sat  50.81      3.07       20.44138       \n",
              "3 Sun  48.17      7.25       21.41000       \n",
              "4 Thur 43.11      7.51       17.68274       "
            ]
          },
          "metadata": {}
        },
        {
          "output_type": "stream",
          "name": "stdout",
          "text": [
            "Las estadísticas de cuentas por día de la semana son las siguientes:\n",
            "\u001b[90m# A tibble: 4 × 4\u001b[39m\n",
            "  day   max_propina min_propina promedio_propina\n",
            "  \u001b[3m\u001b[90m<fct>\u001b[39m\u001b[23m       \u001b[3m\u001b[90m<dbl>\u001b[39m\u001b[23m       \u001b[3m\u001b[90m<dbl>\u001b[39m\u001b[23m            \u001b[3m\u001b[90m<dbl>\u001b[39m\u001b[23m\n",
            "\u001b[90m1\u001b[39m Fri          4.73        1                2.73\n",
            "\u001b[90m2\u001b[39m Sat         10           1                2.99\n",
            "\u001b[90m3\u001b[39m Sun          6.5         1.01             3.26\n",
            "\u001b[90m4\u001b[39m Thur         6.7         1.25             2.77\n"
          ]
        }
      ]
    },
    {
      "cell_type": "code",
      "source": [
        "#PREGUNTA 12\n",
        "#¿Cómo afecta el tamaño del grupo al total de la factura?\n",
        "result <- df %>%\n",
        "  group_by(size) %>%\n",
        "  summarize(promedio_cuenta = mean(total_bill))\n",
        "cat(\"El tamaño del grupo afecta al total de la factura de la siguiente manera: \", toString(unique(result$size)), \"\\n\")"
      ],
      "metadata": {
        "id": "7g2y6uPt701G",
        "colab": {
          "base_uri": "https://localhost:8080/"
        },
        "outputId": "df1d5e59-e58e-456a-de64-d77565ff4c47"
      },
      "execution_count": null,
      "outputs": [
        {
          "output_type": "stream",
          "name": "stdout",
          "text": [
            "El tamaño del grupo afecta al total de la factura de la siguiente manera:  1, 2, 3, 4, 5, 6 \n"
          ]
        }
      ]
    },
    {
      "cell_type": "code",
      "source": [
        "#PREGUNTA 13\n",
        "#¿Cuál es la propina más alta registrada y en qué circunstancias se dio?\n",
        "highest_tip <- df %>%\n",
        "  filter(tip == max(df$tip))\n",
        "cat(\"La propina más alta registrada fue de $\", highest_tip$tip, \". Se dio en las siguientes circunstancias:\\n\")\n",
        "cat(\"Día:\", highest_tip$day, \"\\n\")\n",
        "cat(\"Hora:\", highest_tip$time, \"\\n\")\n",
        "cat(\"Tamaño del grupo:\", highest_tip$size, \"\\n\")\n",
        "cat(\"Total de la cuenta:\", highest_tip$total_bill, \"\\n\")"
      ],
      "metadata": {
        "id": "aGJN4j8c70-g",
        "colab": {
          "base_uri": "https://localhost:8080/"
        },
        "outputId": "05ce4d04-b66f-4127-e501-4127df4c5096"
      },
      "execution_count": null,
      "outputs": [
        {
          "output_type": "stream",
          "name": "stdout",
          "text": [
            "La propina más alta registrada fue de $ 10 . Se dio en las siguientes circunstancias:\n",
            "Día: 2 \n",
            "Hora: 1 \n",
            "Tamaño del grupo: 3 \n",
            "Total de la cuenta: 50.81 \n"
          ]
        }
      ]
    },
    {
      "cell_type": "code",
      "source": [
        "#PREGUNTA 14\n",
        "#¿Qué porcentaje de las cuentas por día de la semana son de fumadores?\n",
        "result <- df %>%\n",
        "  group_by(day) %>%\n",
        "  summarize(porcentaje_fumadores = mean(smoker == \"Yes\") * 100)\n",
        "cat(\"El porcentaje de cuentas de fumadores por día de la semana es:\\n\")\n",
        "print(result)"
      ],
      "metadata": {
        "id": "k6YnFmfk71Gu",
        "colab": {
          "base_uri": "https://localhost:8080/"
        },
        "outputId": "5a62c6a5-1ca2-43af-f38e-0f5019d822c8"
      },
      "execution_count": null,
      "outputs": [
        {
          "output_type": "stream",
          "name": "stdout",
          "text": [
            "El porcentaje de cuentas de fumadores por día de la semana es:\n",
            "\u001b[90m# A tibble: 4 × 2\u001b[39m\n",
            "  day   porcentaje_fumadores\n",
            "  \u001b[3m\u001b[90m<fct>\u001b[39m\u001b[23m                \u001b[3m\u001b[90m<dbl>\u001b[39m\u001b[23m\n",
            "\u001b[90m1\u001b[39m Fri                   78.9\n",
            "\u001b[90m2\u001b[39m Sat                   48.3\n",
            "\u001b[90m3\u001b[39m Sun                   25  \n",
            "\u001b[90m4\u001b[39m Thur                  27.4\n"
          ]
        }
      ]
    },
    {
      "cell_type": "code",
      "source": [
        "#PREGUNTA 15\n",
        "#¿Cómo afecta ser fumador o no al tamaño promedio del grupo?\n",
        "result <- df %>%\n",
        "  group_by(smoker) %>%\n",
        "  summarize(promedio_tamaño_grupo = mean(size))\n",
        "cat(\"El tamaño promedio del grupo para fumadores y no fumadores es el siguiente:\\n\")\n",
        "print(result)"
      ],
      "metadata": {
        "id": "dFnBQouG71PX",
        "colab": {
          "base_uri": "https://localhost:8080/"
        },
        "outputId": "bd1f3a3f-666e-4b45-ee4b-df7b9d37581e"
      },
      "execution_count": null,
      "outputs": [
        {
          "output_type": "stream",
          "name": "stdout",
          "text": [
            "El tamaño promedio del grupo para fumadores y no fumadores es el siguiente:\n",
            "\u001b[90m# A tibble: 2 × 2\u001b[39m\n",
            "  smoker promedio_tamaño_grupo\n",
            "  \u001b[3m\u001b[90m<fct>\u001b[39m\u001b[23m                  \u001b[3m\u001b[90m<dbl>\u001b[39m\u001b[23m\n",
            "\u001b[90m1\u001b[39m No                      2.67\n",
            "\u001b[90m2\u001b[39m Yes                     2.41\n"
          ]
        }
      ]
    }
  ]
}